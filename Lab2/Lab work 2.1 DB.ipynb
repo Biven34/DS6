{
 "cells": [
  {
   "cell_type": "markdown",
   "metadata": {},
   "source": [
    "___\n",
    "\n",
    "<a href='https://mainacademy.ua/'> <img src='https://mainacademy.ua/wp-content/uploads/2019/03/logo-main.png' alt = 'Хмм, щось з інтернетом'/></a>\n",
    "___\n",
    "\n",
    "# Module 2: Basic Python"
   ]
  },
  {
   "cell_type": "markdown",
   "metadata": {},
   "source": [
    "## Lab work 2.1\n",
    "\n"
   ]
  },
  {
   "cell_type": "markdown",
   "metadata": {},
   "source": [
    "#### Мета: \n",
    "\n",
    "* навчитися працювати із основними типами та структурами даних в Python;\n",
    "* ознайомитися із базовими алгоритмами;"
   ]
  },
  {
   "cell_type": "markdown",
   "metadata": {},
   "source": [
    "#### Завдання 1"
   ]
  },
  {
   "cell_type": "markdown",
   "metadata": {},
   "source": [
    "Обчислити площу трикутника, коли відома сторона та проведена висота до неї"
   ]
  },
  {
   "cell_type": "code",
   "execution_count": 2,
   "metadata": {},
   "outputs": [
    {
     "name": "stdout",
     "output_type": "stream",
     "text": [
      "75\n",
      "45\n",
      "1687.5\n"
     ]
    }
   ],
   "source": [
    "a = int(input())\n",
    "h = int(input())\n",
    "\n",
    "area = a * h / 2\n",
    "print(area)"
   ]
  },
  {
   "cell_type": "markdown",
   "metadata": {},
   "source": [
    "#### Завдання 2"
   ]
  },
  {
   "cell_type": "markdown",
   "metadata": {},
   "source": [
    "Дано трицифрове число. Виведіть окремо кожну цифру числа та суми цифр число\n",
    "\n",
    "Реалізуйте завдання двома способами (використовуючи стрічки та оператори `%`, `//`)"
   ]
  },
  {
   "cell_type": "code",
   "execution_count": 35,
   "metadata": {},
   "outputs": [
    {
     "name": "stdout",
     "output_type": "stream",
     "text": [
      "231\n",
      "1\n",
      "3\n",
      "2\n",
      "6\n"
     ]
    }
   ],
   "source": [
    "'''Convert N to int, use While loop '''\n",
    "N = input()\n",
    "sum = 0\n",
    "N = int(N)\n",
    "\n",
    "while N > 0:\n",
    "    print(N%10)\n",
    "    sum = sum + N % 10\n",
    "    N = N // 10\n",
    "    \n",
    "\n",
    "print(sum)\n",
    "\n"
   ]
  },
  {
   "cell_type": "code",
   "execution_count": 14,
   "metadata": {},
   "outputs": [
    {
     "name": "stdout",
     "output_type": "stream",
     "text": [
      "231\n",
      "1\n",
      "3\n",
      "2\n",
      "6\n"
     ]
    }
   ],
   "source": [
    "'''input as int, loop through 3 digits using For loop''' \n",
    "N = int(input())\n",
    "sum = 0\n",
    "\n",
    "\n",
    "for i in range (3):\n",
    "    print(N%10)\n",
    "    sum = sum + N % 10\n",
    "    N = N // 10\n",
    "\n",
    "print(sum)\n",
    "\n"
   ]
  },
  {
   "cell_type": "markdown",
   "metadata": {},
   "source": [
    "#### Завдання 3"
   ]
  },
  {
   "cell_type": "markdown",
   "metadata": {},
   "source": [
    "Дано речення (стрічка). \n",
    "* Розбийте речення по словах і помістіть їх у список. \n",
    "* Виведіть кількість слів у речені.\n",
    "* Утворіть нове речення, що складається з першого та останнього слова із початкового речення."
   ]
  },
  {
   "cell_type": "code",
   "execution_count": 38,
   "metadata": {},
   "outputs": [],
   "source": [
    "sentence = 'My favourite tutor in academy is Ihor'"
   ]
  },
  {
   "cell_type": "code",
   "execution_count": 39,
   "metadata": {},
   "outputs": [
    {
     "data": {
      "text/plain": [
       "['My', 'favourite', 'tutor', 'in', 'academy', 'is', 'Ihor']"
      ]
     },
     "execution_count": 39,
     "metadata": {},
     "output_type": "execute_result"
    }
   ],
   "source": [
    "word_list = sentence.split()\n",
    "word_list"
   ]
  },
  {
   "cell_type": "code",
   "execution_count": 40,
   "metadata": {},
   "outputs": [
    {
     "data": {
      "text/plain": [
       "7"
      ]
     },
     "execution_count": 40,
     "metadata": {},
     "output_type": "execute_result"
    }
   ],
   "source": [
    "len(word_list)"
   ]
  },
  {
   "cell_type": "code",
   "execution_count": 41,
   "metadata": {},
   "outputs": [
    {
     "data": {
      "text/plain": [
       "['My', 'Ihor']"
      ]
     },
     "execution_count": 41,
     "metadata": {},
     "output_type": "execute_result"
    }
   ],
   "source": [
    "new_list = [word_list[i] for i in (0,-1)]\n",
    "new_list"
   ]
  },
  {
   "cell_type": "markdown",
   "metadata": {},
   "source": [
    "#### Завдання 4"
   ]
  },
  {
   "cell_type": "markdown",
   "metadata": {},
   "source": [
    "Перевірте, чи справджується формула: $$ sin^2x + cos^2x = 1$$\n",
    "\n",
    "Напишіть код, що реалізує цю формулу. Нагадую, що тригонометричні функції приймають аргументи в радіанній мірі"
   ]
  },
  {
   "cell_type": "code",
   "execution_count": 59,
   "metadata": {},
   "outputs": [
    {
     "name": "stdout",
     "output_type": "stream",
     "text": [
      "3\n",
      "True\n"
     ]
    }
   ],
   "source": [
    "'''convert to radiants, round the formula, check the result'''\n",
    "import math\n",
    "x = int(input())\n",
    "x = math.radians(x)\n",
    "if round(math.sin(x)**2 + math.cos(x)**2) == 1:\n",
    "    print(True)\n",
    "else:\n",
    "    print(False)\n"
   ]
  },
  {
   "cell_type": "markdown",
   "metadata": {},
   "source": [
    "#### Завдання 5"
   ]
  },
  {
   "cell_type": "markdown",
   "metadata": {},
   "source": [
    "Напишіть програму для обчислення коренів квадратного рівняння.\n",
    "\n",
    "Нагадую, що `n`-го степеня має `n` коренів. (Корені можуть бути комплексні)"
   ]
  },
  {
   "cell_type": "code",
   "execution_count": 70,
   "metadata": {},
   "outputs": [
    {
     "name": "stdout",
     "output_type": "stream",
     "text": [
      "3\n",
      "7\n",
      "4\n",
      "-1.0 -1.3333333333333333\n"
     ]
    }
   ],
   "source": [
    "'''Find the discriminant, check the conditions, use the formula, print the roots'''\n",
    "\n",
    "import cmath\n",
    "from math import sqrt\n",
    "a = int(input())\n",
    "b = int(input())\n",
    "c = int(input())\n",
    "\n",
    "#ax^2+bx+c=0\n",
    "#-b+-sqrt(b^2-4ac)/2a\n",
    "discriminant= b**2 - 4 * a * c\n",
    "\n",
    "if discriminant > 0:\n",
    "    root1 = (-b + sqrt(discriminant)) / (2*a)\n",
    "    root2 = (-b - sqrt(discriminant)) / (2*a)\n",
    "    print(root1,root2)\n",
    "elif discriminant == 0:\n",
    "    root = -b / (2*a)\n",
    "    print(root)\n",
    "else:\n",
    "    root1 = (-b + cmath.sqrt(discriminant)) / (2*a)\n",
    "    root2 = (-b - cmath.sqrt(discriminant)) / (2*a)\n",
    "    print(root1,root2)\n",
    "    \n",
    "\n",
    "\n"
   ]
  },
  {
   "cell_type": "markdown",
   "metadata": {},
   "source": [
    "#### Завдання 6"
   ]
  },
  {
   "cell_type": "markdown",
   "metadata": {},
   "source": [
    "Напишіть програму, що виводить речення: <i>\"Діаметр планети `Planet` дорівнює` Diament`\"</i>, \n",
    "\n",
    "де `Planet` та `Diament` вводить користувач"
   ]
  },
  {
   "cell_type": "code",
   "execution_count": 71,
   "metadata": {},
   "outputs": [
    {
     "name": "stdout",
     "output_type": "stream",
     "text": [
      "Name a planetJesus\n",
      "What is the diameter of the planet1000\n",
      "Діаметр планети Jesus дорівнює 1000\n"
     ]
    }
   ],
   "source": [
    "Planet=input('Name a planet ')\n",
    "Diament=int(input('What is the diameter of the planet '))\n",
    "\n",
    "print(f'Діаметр планети {Planet} дорівнює {Diament}')"
   ]
  }
 ],
 "metadata": {
  "kernelspec": {
   "display_name": "Python 3",
   "language": "python",
   "name": "python3"
  },
  "language_info": {
   "codemirror_mode": {
    "name": "ipython",
    "version": 3
   },
   "file_extension": ".py",
   "mimetype": "text/x-python",
   "name": "python",
   "nbconvert_exporter": "python",
   "pygments_lexer": "ipython3",
   "version": "3.8.5"
  }
 },
 "nbformat": 4,
 "nbformat_minor": 2
}
