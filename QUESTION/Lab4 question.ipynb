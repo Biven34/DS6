{
 "cells": [
  {
   "cell_type": "code",
   "execution_count": 2,
   "metadata": {},
   "outputs": [
    {
     "name": "stdout",
     "output_type": "stream",
     "text": [
      "input number of days10\n",
      " day 13, month 4\n",
      " day 12, month 4\n",
      " day 11, month 4\n",
      " day 10, month 4\n",
      " day 9, month 4\n",
      " day 8, month 4\n",
      " day 7, month 4\n",
      " day 6, month 4\n",
      " day 5, month 4\n",
      " day 4, month 4\n",
      "[[27.9335], [27.9094, 27.9768, 27.9768, 27.9768, 27.8923, 27.8384, 27.939, 27.9555, 27.8324]]\n"
     ]
    }
   ],
   "source": [
    "import requests \n",
    "\n",
    "\n",
    "from datetime import datetime, timedelta\n",
    "\n",
    "\n",
    "month_dict = {}\n",
    "result = []\n",
    "#Same as in lesson\n",
    "def apiConv(date):\n",
    "    parameter = {'date': date.strftime('%Y%m%d'), 'valcode' : 'USD'}\n",
    "    r = requests.get('https://bank.gov.ua/NBUStatService/v1/statdirectory/exchange?json',params = parameter)\n",
    "    if r.status_code == 200:\n",
    "        return r.json()[0]['rate']\n",
    "    return None\n",
    "\n",
    "def groupTogether(period):\n",
    "    date = datetime.today()\n",
    "#First I check today's date\n",
    "#than I loop through the period of time given by input\n",
    "#I create a dictionary with key=month\n",
    "#if the key is new-I create a key and add the value to this new\n",
    "#if the key is old-I add the value to a given key\n",
    "    for i in range(period):\n",
    "        date = date - timedelta(days=1)\n",
    "        month = date.month\n",
    "   \n",
    "        key = month\n",
    "        rate = apiConv(date)\n",
    "        print(f\" day {date.day}, month {date.month}\")\n",
    "        \n",
    "        if month_dict.get(key, None):\n",
    "            result[month_dict[key]].append(rate)\n",
    "            \n",
    "        else:\n",
    "            result.append([rate])\n",
    "            month_dict[key] = len(result) - 1\n",
    "\n",
    "\n",
    "if __name__ == '__main__':\n",
    "    period = int(input('input number of days'))\n",
    "    groupTogether(period)\n",
    "#     for i in month_dict:\n",
    "#         print (i, month_dict)\n",
    "    print(result)"
   ]
  }
 ],
 "metadata": {
  "kernelspec": {
   "display_name": "Python 3",
   "language": "python",
   "name": "python3"
  },
  "language_info": {
   "codemirror_mode": {
    "name": "ipython",
    "version": 3
   },
   "file_extension": ".py",
   "mimetype": "text/x-python",
   "name": "python",
   "nbconvert_exporter": "python",
   "pygments_lexer": "ipython3",
   "version": "3.8.5"
  }
 },
 "nbformat": 4,
 "nbformat_minor": 4
}
