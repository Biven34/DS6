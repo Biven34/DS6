{
 "cells": [
  {
   "cell_type": "markdown",
   "metadata": {},
   "source": [
    "___\n",
    "\n",
    "<a href='https://mainacademy.ua/'> <img src='https://mainacademy.ua/wp-content/uploads/2019/03/logo-main.png' alt = 'Хмм, щось з інтернетом'/></a>\n",
    "___\n",
    "\n",
    "# Module 4: Work with data professionally!"
   ]
  },
  {
   "cell_type": "markdown",
   "metadata": {},
   "source": [
    "## Lab work 4\n",
    "\n"
   ]
  },
  {
   "cell_type": "markdown",
   "metadata": {},
   "source": [
    "#### Мета: \n",
    "\n",
    "* навчитися обробляти дані\n",
    "* \"парсити\" сайти"
   ]
  },
  {
   "cell_type": "markdown",
   "metadata": {},
   "source": [
    "### Завдання 1:"
   ]
  },
  {
   "cell_type": "markdown",
   "metadata": {},
   "source": [
    "#### Ознайомитися із API Національного банку \n",
    "https://old.bank.gov.ua/control/uk/publish/article?art_id=38441973&cat_id=38459171#exchange\n",
    "\n"
   ]
  },
  {
   "cell_type": "markdown",
   "metadata": {},
   "source": [
    "1. Підключитися до API.\n"
   ]
  },
  {
   "cell_type": "code",
   "execution_count": 34,
   "metadata": {},
   "outputs": [],
   "source": [
    "import requests \n",
    "\n",
    "r = requests.get('https://bank.gov.ua/NBUStatService/v1/statdirectory/exchange?json').json()"
   ]
  },
  {
   "cell_type": "markdown",
   "metadata": {},
   "source": [
    "2. Отримати курс долара за останній рік."
   ]
  },
  {
   "cell_type": "code",
   "execution_count": 35,
   "metadata": {},
   "outputs": [
    {
     "name": "stdout",
     "output_type": "stream",
     "text": [
      " input number of days 10\n",
      "[28.0642, 28.0576, 28.0096, 28.0087, 27.9783, 27.9592, 27.9592, 27.9592, 27.9765, 28.0156]\n"
     ]
    }
   ],
   "source": [
    "from datetime import datetime, timedelta\n",
    "\n",
    "DATA_BASE = []\n",
    "\n",
    "'''Function to conncet to the bank api'''\n",
    "\n",
    "def apiConv(date):\n",
    "    parameter = {'date': date.strftime('%Y%m%d'), 'valcode' : 'USD'}\n",
    "    r = requests.get('https://bank.gov.ua/NBUStatService/v1/statdirectory/exchange?json',params = parameter)\n",
    "    if r.status_code == 200:\n",
    "        return r.json()[0]['rate']\n",
    "    return None\n",
    "\n",
    "'''Function to go through a given period of time to create a list of exchange values starting from today'''\n",
    "def groupTogether(period):\n",
    "    date = datetime.today()\n",
    "#     x = date.month\n",
    "    rate = apiConv(date)\n",
    "    DATA_BASE.append(rate)\n",
    "    for i in range(period-1):\n",
    "        date = date - timedelta(days=1)\n",
    "        rate = apiConv(date)\n",
    "        DATA_BASE.append(rate)\n",
    "\n",
    "\n",
    "        \n",
    "if __name__ == '__main__':\n",
    "    period = int(input(' input number of days '))\n",
    "    groupTogether(period)\n",
    "    print(DATA_BASE)"
   ]
  },
  {
   "cell_type": "markdown",
   "metadata": {},
   "source": [
    "3. Вивести середнє значення та відхилення курсу за кожний місяць."
   ]
  },
  {
   "cell_type": "code",
   "execution_count": 47,
   "metadata": {},
   "outputs": [
    {
     "name": "stdout",
     "output_type": "stream",
     "text": [
      "input number of days365\n",
      "([27.68778620689655, 27.79555806451613, 27.884660714285715, 28.219770967741937, 28.16971935483871, 28.310153333333332, 28.324951612903227, 27.97671666666667, 27.52141935483871, 27.31283870967742, 26.707343333333334], [0.4083267211823482, 0.11551466219833594, 0.10631085913415092, 0.1231532113359842, 0.24976838393380232, 0.1508870820853458, 0.055517948274816174, 0.2409137677795668, 0.14819453525541967, 0.3642097762530265, 0.07284717438646436])\n"
     ]
    }
   ],
   "source": [
    "from datetime import datetime, timedelta\n",
    "import statistics\n",
    "\n",
    "month_dict = {}\n",
    "result = []\n",
    "#Same as in lesson\n",
    "\n",
    "def month_Meanstd(data):\n",
    "    x=[1,3123,123,123,123,123,123,123,123,123,123,1]\n",
    "    y=[123,125,12,51,2512,5,125,125,125,125,125,12]\n",
    "    for i in range(1,len(data)-1):\n",
    "        x[i]=statistics.mean(data[i])\n",
    "        y[i]=statistics.stdev(data[i])\n",
    "    x.pop(0)\n",
    "    y.pop(0)\n",
    "    \n",
    "    return x,y\n",
    "\n",
    "def apiConv(date):\n",
    "    parameter = {'date': date.strftime('%Y%m%d'), 'valcode' : 'USD'}\n",
    "    r = requests.get('https://bank.gov.ua/NBUStatService/v1/statdirectory/exchange?json',params = parameter)\n",
    "    if r.status_code == 200:\n",
    "        return r.json()[0]['rate']\n",
    "    return None\n",
    "\n",
    "def groupTogether(period):\n",
    "    date = datetime.today()\n",
    "#First I check today's date\n",
    "#than I loop through the period of time given by input\n",
    "#I create a dictionary with key=month\n",
    "#if the key is new-I create a key and add the value to this new\n",
    "#if the key is old-I add the value to a given key\n",
    "    for i in range(period):\n",
    "        date = date - timedelta(days=1)\n",
    "        month = date.month\n",
    "   \n",
    "        key = month\n",
    "        rate = apiConv(date)\n",
    "      #  print(f\" day {date.day}, month {date.month}\")\n",
    "        \n",
    "        if month_dict.get(key, None):\n",
    "            result[month_dict[key]].append(rate)\n",
    "            \n",
    "        else:\n",
    "            result.append([rate])\n",
    "            month_dict[key] = len(result) - 1\n",
    "\n",
    "\n",
    "if __name__ == '__main__':\n",
    "    period = int(input('input number of days'))\n",
    "    groupTogether(period)\n",
    "#     for i in month_dict:\n",
    "#         print (i, month_dict)\n",
    "    #print(result)\n",
    "    final=month_Meanstd(result)\n",
    "    print(final)"
   ]
  },
  {
   "cell_type": "code",
   "execution_count": 36,
   "metadata": {},
   "outputs": [
    {
     "name": "stdout",
     "output_type": "stream",
     "text": [
      "input number of days30\n",
      "[]\n"
     ]
    }
   ],
   "source": [
    "# from datetime import datetime, timedelta\n",
    "# import statistics\n",
    "\n",
    "# month_dict = {}\n",
    "# result = []\n",
    "\n",
    "# def month_Meanstd(data):\n",
    "#     x=[]\n",
    "#     y=[]\n",
    "#     for i in range(0,len(data)):\n",
    "#         x[i]=statistics.mean(data[i])\n",
    "#         y[i]=statistics.std(data[i])\n",
    "#         print(x,y)\n",
    "#     return x,y\n",
    "\n",
    "# def apiConv(date):\n",
    "#     parameter = {'date': date.strftime('%Y%m%d'), 'valcode' : 'USD'}\n",
    "#     r = requests.get('https://bank.gov.ua/NBUStatService/v1/statdirectory/exchange?json',params = parameter)\n",
    "#     if r.status_code == 200:\n",
    "#         return r.json()[0]['rate']\n",
    "#     return None\n",
    "\n",
    "# def groupTogether(period):\n",
    "#     date = datetime.today()\n",
    "#     month = date.month\n",
    "#     key = month\n",
    "#     rate = apiConv(date)\n",
    "#     result[month_dict[key]].append(rate)\n",
    "#     for i in range(period):\n",
    "#         date = date - timedelta(days=1)\n",
    "#         month = date.month\n",
    "#         rate = apiConv(date)\n",
    "#         key = month\n",
    "#         rate = apiConv(date)\n",
    "#       #  print(f\" day {date.day}, month {date.month}\")\n",
    "#         if month_dict.get(key, None):\n",
    "#             result[month_dict[key]].append(rate)\n",
    "# #             if \"4\" in month_dict:\n",
    "# #                 print(\"EXIST 4\")\n",
    "# #             if \"3\" in month_dict:\n",
    "# #                 print(\"EXIST 3\")\n",
    "#         else:\n",
    "#             result.append([rate])\n",
    "#             month_dict[key] = len(result) - 1\n",
    "\n",
    "# #             if \"4\" in month_dict:\n",
    "# #                     print(\"EXIST 4\")\n",
    "# #             if \"3\" in month_dict:\n",
    "# #                     print(\"EXIST 3\")\n",
    "\n",
    "\n",
    "# if __name__ == '__main__':\n",
    "#     period = int(input('input number of days'))\n",
    "#    # groupTogether(period)\n",
    "#     #for i in month_dict:\n",
    "#      #   print (i, month_dict)\n",
    "#     final= month_Meanstd(result)\n",
    "#     print(result)"
   ]
  },
  {
   "cell_type": "markdown",
   "metadata": {},
   "source": [
    "4. Дану інформацію записати у файл за допомогою pickle."
   ]
  },
  {
   "cell_type": "code",
   "execution_count": 48,
   "metadata": {},
   "outputs": [],
   "source": [
    "# import sqlite3\n",
    "\n",
    "# conn = sqlite3.connect('my_db.sqlite3')\n",
    "\n",
    "# curs = conn.cursor()\n",
    "# curs.execute(\"CREATE TABLE new_table (element TEXT)\")\n",
    "# conn.close()\n",
    "\n",
    "import pickle \n",
    "\n",
    "with open ('monthly_exchange.pickle','wb') as f:\n",
    "    pickle.dump(final,f)"
   ]
  },
  {
   "cell_type": "markdown",
   "metadata": {},
   "source": [
    "### Завдання 2:"
   ]
  },
  {
   "cell_type": "markdown",
   "metadata": {},
   "source": [
    "Потрібно проаналізувати всі товари на сайті: \n",
    "https://smallpacking.agrosem.ua/shop/"
   ]
  },
  {
   "cell_type": "markdown",
   "metadata": {},
   "source": [
    "Створіть базу даних, що містить таблицю із такими стовбцями: \n",
    "    - артикул товару\n",
    "    - найменування\n",
    "    - ціна \n",
    "    - вага"
   ]
  },
  {
   "cell_type": "code",
   "execution_count": 145,
   "metadata": {
    "scrolled": true
   },
   "outputs": [
    {
     "data": {
      "text/html": [
       "<div>\n",
       "<style scoped>\n",
       "    .dataframe tbody tr th:only-of-type {\n",
       "        vertical-align: middle;\n",
       "    }\n",
       "\n",
       "    .dataframe tbody tr th {\n",
       "        vertical-align: top;\n",
       "    }\n",
       "\n",
       "    .dataframe thead th {\n",
       "        text-align: right;\n",
       "    }\n",
       "</style>\n",
       "<table border=\"1\" class=\"dataframe\">\n",
       "  <thead>\n",
       "    <tr style=\"text-align: right;\">\n",
       "      <th></th>\n",
       "      <th>Item_Code</th>\n",
       "      <th>Item_Name</th>\n",
       "      <th>Item_Price</th>\n",
       "      <th>ITEM_Weight</th>\n",
       "    </tr>\n",
       "  </thead>\n",
       "  <tbody>\n",
       "    <tr>\n",
       "      <th>0</th>\n",
       "      <td>SKU: 439226</td>\n",
       "      <td>Добриво для фруктових та горіхових дерев</td>\n",
       "      <td>415 грн</td>\n",
       "      <td>1 кг, 3 кг</td>\n",
       "    </tr>\n",
       "    <tr>\n",
       "      <th>1</th>\n",
       "      <td>SKU: 1297</td>\n",
       "      <td>Добриво для ягідних чагарників</td>\n",
       "      <td>415 грн</td>\n",
       "      <td>1 кг, 3 кг</td>\n",
       "    </tr>\n",
       "    <tr>\n",
       "      <th>2</th>\n",
       "      <td>SKU: 91897</td>\n",
       "      <td>Добриво для ягідних чагарників</td>\n",
       "      <td>173 грн</td>\n",
       "      <td>1 кг, 3 кг</td>\n",
       "    </tr>\n",
       "    <tr>\n",
       "      <th>3</th>\n",
       "      <td>SKU: 61169</td>\n",
       "      <td>Добриво універсальне грунтове</td>\n",
       "      <td>173 грн</td>\n",
       "      <td>1 кг, 10 кг, 3 кг</td>\n",
       "    </tr>\n",
       "    <tr>\n",
       "      <th>4</th>\n",
       "      <td>SKU: 6651824</td>\n",
       "      <td>Добриво універсальне грунтове</td>\n",
       "      <td>415 грн</td>\n",
       "      <td>1 кг, 10 кг, 3 кг</td>\n",
       "    </tr>\n",
       "    <tr>\n",
       "      <th>5</th>\n",
       "      <td>SKU: 5227876</td>\n",
       "      <td>Добриво універсальне грунтове</td>\n",
       "      <td>1 149 грн</td>\n",
       "      <td>1 кг, 10 кг, 3 кг</td>\n",
       "    </tr>\n",
       "    <tr>\n",
       "      <th>6</th>\n",
       "      <td>SKU: 32237</td>\n",
       "      <td>Добриво для декоративних листових</td>\n",
       "      <td>415 грн</td>\n",
       "      <td>1 кг, 3 кг</td>\n",
       "    </tr>\n",
       "    <tr>\n",
       "      <th>7</th>\n",
       "      <td>SKU: 4165215</td>\n",
       "      <td>Добриво для вічнозелених дерев та кущів</td>\n",
       "      <td>1 149 грн</td>\n",
       "      <td>1 кг, 10 кг, 3 кг</td>\n",
       "    </tr>\n",
       "    <tr>\n",
       "      <th>8</th>\n",
       "      <td>SKU: 682645</td>\n",
       "      <td>Добриво універсальне грунтове</td>\n",
       "      <td>415 грн</td>\n",
       "      <td>1 кг, 10 кг, 3 кг</td>\n",
       "    </tr>\n",
       "    <tr>\n",
       "      <th>9</th>\n",
       "      <td>SKU: 7435</td>\n",
       "      <td>Добриво універсальне грунтове</td>\n",
       "      <td>173 грн</td>\n",
       "      <td>1 кг, 10 кг, 3 кг</td>\n",
       "    </tr>\n",
       "    <tr>\n",
       "      <th>10</th>\n",
       "      <td>SKU: 9354141</td>\n",
       "      <td>Добриво для газону</td>\n",
       "      <td>415 грн</td>\n",
       "      <td>1 кг, 10 кг, 3 кг</td>\n",
       "    </tr>\n",
       "    <tr>\n",
       "      <th>11</th>\n",
       "      <td>SKU: 1955</td>\n",
       "      <td>Добриво для вічнозелених дерев та кущів</td>\n",
       "      <td>173 грн</td>\n",
       "      <td>1 кг, 10 кг, 3 кг</td>\n",
       "    </tr>\n",
       "    <tr>\n",
       "      <th>12</th>\n",
       "      <td>SKU: 455799</td>\n",
       "      <td>Добриво для газону</td>\n",
       "      <td>173 грн</td>\n",
       "      <td>1 кг, 10 кг, 3 кг</td>\n",
       "    </tr>\n",
       "    <tr>\n",
       "      <th>13</th>\n",
       "      <td>SKU: 991645</td>\n",
       "      <td>Добриво для декоративних листових</td>\n",
       "      <td>173 грн</td>\n",
       "      <td>1 кг, 3 кг</td>\n",
       "    </tr>\n",
       "    <tr>\n",
       "      <th>14</th>\n",
       "      <td>SKU: 17477</td>\n",
       "      <td>Добриво універсальне грунтове</td>\n",
       "      <td>1 149 грн</td>\n",
       "      <td>1 кг, 10 кг, 3 кг</td>\n",
       "    </tr>\n",
       "    <tr>\n",
       "      <th>15</th>\n",
       "      <td>SKU: 7143174</td>\n",
       "      <td>Добриво для газону</td>\n",
       "      <td>415 грн</td>\n",
       "      <td>1 кг, 10 кг, 3 кг</td>\n",
       "    </tr>\n",
       "    <tr>\n",
       "      <th>16</th>\n",
       "      <td>SKU: 3593</td>\n",
       "      <td>Добриво для полуниці</td>\n",
       "      <td>173 грн</td>\n",
       "      <td>1 кг</td>\n",
       "    </tr>\n",
       "    <tr>\n",
       "      <th>17</th>\n",
       "      <td>SKU: 4738184</td>\n",
       "      <td>Добриво для вічнозелених дерев та кущів</td>\n",
       "      <td>415 грн</td>\n",
       "      <td>1 кг, 10 кг, 3 кг</td>\n",
       "    </tr>\n",
       "    <tr>\n",
       "      <th>18</th>\n",
       "      <td>SKU: 3177412</td>\n",
       "      <td>Добриво для фруктових та горіхових дерев</td>\n",
       "      <td>173 грн</td>\n",
       "      <td>1 кг, 3 кг</td>\n",
       "    </tr>\n",
       "    <tr>\n",
       "      <th>19</th>\n",
       "      <td>SKU: 16762</td>\n",
       "      <td>Добриво для газону</td>\n",
       "      <td>1 149 грн</td>\n",
       "      <td>1 кг, 10 кг, 3 кг</td>\n",
       "    </tr>\n",
       "    <tr>\n",
       "      <th>20</th>\n",
       "      <td>SKU: 78747</td>\n",
       "      <td>Добриво для декоративних листових</td>\n",
       "      <td>415 грн</td>\n",
       "      <td>1 кг, 3 кг</td>\n",
       "    </tr>\n",
       "    <tr>\n",
       "      <th>21</th>\n",
       "      <td>SKU: 5218</td>\n",
       "      <td>Добриво для вічнозелених дерев та кущів</td>\n",
       "      <td>1 149 грн</td>\n",
       "      <td>1 кг, 10 кг, 3 кг</td>\n",
       "    </tr>\n",
       "    <tr>\n",
       "      <th>22</th>\n",
       "      <td>SKU: 33486</td>\n",
       "      <td>Добриво для декоративних листових</td>\n",
       "      <td>173 грн</td>\n",
       "      <td>1 кг, 3 кг</td>\n",
       "    </tr>\n",
       "    <tr>\n",
       "      <th>23</th>\n",
       "      <td>SKU: 198742</td>\n",
       "      <td>Добриво для овочів</td>\n",
       "      <td>415 грн</td>\n",
       "      <td>1 кг, 3 кг</td>\n",
       "    </tr>\n",
       "    <tr>\n",
       "      <th>24</th>\n",
       "      <td>SKU: 797756</td>\n",
       "      <td>Добриво для винограду</td>\n",
       "      <td>173 грн</td>\n",
       "      <td>1 кг</td>\n",
       "    </tr>\n",
       "    <tr>\n",
       "      <th>25</th>\n",
       "      <td>SKU: 726319</td>\n",
       "      <td>Добриво для вічнозелених дерев та кущів</td>\n",
       "      <td>415 грн</td>\n",
       "      <td>1 кг, 10 кг, 3 кг</td>\n",
       "    </tr>\n",
       "    <tr>\n",
       "      <th>26</th>\n",
       "      <td>SKU: 789868</td>\n",
       "      <td>Добриво для газону</td>\n",
       "      <td>155 грн</td>\n",
       "      <td>1 кг, 10 кг, 3 кг</td>\n",
       "    </tr>\n",
       "    <tr>\n",
       "      <th>27</th>\n",
       "      <td>SKU: 88255</td>\n",
       "      <td>Добриво для овочів</td>\n",
       "      <td>173 грн</td>\n",
       "      <td>1 кг, 3 кг</td>\n",
       "    </tr>\n",
       "    <tr>\n",
       "      <th>28</th>\n",
       "      <td>SKU: 68183</td>\n",
       "      <td>Добриво для розсади</td>\n",
       "      <td>173 грн</td>\n",
       "      <td>1 кг</td>\n",
       "    </tr>\n",
       "    <tr>\n",
       "      <th>29</th>\n",
       "      <td>SKU: 5656841</td>\n",
       "      <td>Добриво для тепличних овочів</td>\n",
       "      <td>415 грн</td>\n",
       "      <td>1 кг, 3 кг</td>\n",
       "    </tr>\n",
       "    <tr>\n",
       "      <th>30</th>\n",
       "      <td>SKU: 2217672</td>\n",
       "      <td>Добриво для троянд</td>\n",
       "      <td>173 грн</td>\n",
       "      <td>1 кг</td>\n",
       "    </tr>\n",
       "    <tr>\n",
       "      <th>31</th>\n",
       "      <td>SKU: 8362626</td>\n",
       "      <td>Добриво для вічнозелених дерев та кущів</td>\n",
       "      <td>155 грн</td>\n",
       "      <td>1 кг, 10 кг, 3 кг</td>\n",
       "    </tr>\n",
       "    <tr>\n",
       "      <th>32</th>\n",
       "      <td>SKU: 375738</td>\n",
       "      <td>Добриво для газону</td>\n",
       "      <td>1 149 грн</td>\n",
       "      <td>1 кг, 10 кг, 3 кг</td>\n",
       "    </tr>\n",
       "    <tr>\n",
       "      <th>33</th>\n",
       "      <td>SKU: 51561</td>\n",
       "      <td>Добриво для тепличних овочів</td>\n",
       "      <td>173 грн</td>\n",
       "      <td>1 кг, 3 кг</td>\n",
       "    </tr>\n",
       "  </tbody>\n",
       "</table>\n",
       "</div>"
      ],
      "text/plain": [
       "       Item_Code                                 Item_Name Item_Price  \\\n",
       "0    SKU: 439226  Добриво для фруктових та горіхових дерев    415 грн   \n",
       "1      SKU: 1297            Добриво для ягідних чагарників    415 грн   \n",
       "2     SKU: 91897            Добриво для ягідних чагарників    173 грн   \n",
       "3     SKU: 61169             Добриво універсальне грунтове    173 грн   \n",
       "4   SKU: 6651824             Добриво універсальне грунтове    415 грн   \n",
       "5   SKU: 5227876             Добриво універсальне грунтове  1 149 грн   \n",
       "6     SKU: 32237         Добриво для декоративних листових    415 грн   \n",
       "7   SKU: 4165215   Добриво для вічнозелених дерев та кущів  1 149 грн   \n",
       "8    SKU: 682645             Добриво універсальне грунтове    415 грн   \n",
       "9      SKU: 7435             Добриво універсальне грунтове    173 грн   \n",
       "10  SKU: 9354141                        Добриво для газону    415 грн   \n",
       "11     SKU: 1955   Добриво для вічнозелених дерев та кущів    173 грн   \n",
       "12   SKU: 455799                        Добриво для газону    173 грн   \n",
       "13   SKU: 991645         Добриво для декоративних листових    173 грн   \n",
       "14    SKU: 17477             Добриво універсальне грунтове  1 149 грн   \n",
       "15  SKU: 7143174                        Добриво для газону    415 грн   \n",
       "16     SKU: 3593                      Добриво для полуниці    173 грн   \n",
       "17  SKU: 4738184   Добриво для вічнозелених дерев та кущів    415 грн   \n",
       "18  SKU: 3177412  Добриво для фруктових та горіхових дерев    173 грн   \n",
       "19    SKU: 16762                        Добриво для газону  1 149 грн   \n",
       "20    SKU: 78747         Добриво для декоративних листових    415 грн   \n",
       "21     SKU: 5218   Добриво для вічнозелених дерев та кущів  1 149 грн   \n",
       "22    SKU: 33486         Добриво для декоративних листових    173 грн   \n",
       "23   SKU: 198742                        Добриво для овочів    415 грн   \n",
       "24   SKU: 797756                     Добриво для винограду    173 грн   \n",
       "25   SKU: 726319   Добриво для вічнозелених дерев та кущів    415 грн   \n",
       "26   SKU: 789868                        Добриво для газону    155 грн   \n",
       "27    SKU: 88255                        Добриво для овочів    173 грн   \n",
       "28    SKU: 68183                       Добриво для розсади    173 грн   \n",
       "29  SKU: 5656841              Добриво для тепличних овочів    415 грн   \n",
       "30  SKU: 2217672                        Добриво для троянд    173 грн   \n",
       "31  SKU: 8362626   Добриво для вічнозелених дерев та кущів    155 грн   \n",
       "32   SKU: 375738                        Добриво для газону  1 149 грн   \n",
       "33    SKU: 51561              Добриво для тепличних овочів    173 грн   \n",
       "\n",
       "          ITEM_Weight  \n",
       "0          1 кг, 3 кг  \n",
       "1          1 кг, 3 кг  \n",
       "2          1 кг, 3 кг  \n",
       "3   1 кг, 10 кг, 3 кг  \n",
       "4   1 кг, 10 кг, 3 кг  \n",
       "5   1 кг, 10 кг, 3 кг  \n",
       "6          1 кг, 3 кг  \n",
       "7   1 кг, 10 кг, 3 кг  \n",
       "8   1 кг, 10 кг, 3 кг  \n",
       "9   1 кг, 10 кг, 3 кг  \n",
       "10  1 кг, 10 кг, 3 кг  \n",
       "11  1 кг, 10 кг, 3 кг  \n",
       "12  1 кг, 10 кг, 3 кг  \n",
       "13         1 кг, 3 кг  \n",
       "14  1 кг, 10 кг, 3 кг  \n",
       "15  1 кг, 10 кг, 3 кг  \n",
       "16               1 кг  \n",
       "17  1 кг, 10 кг, 3 кг  \n",
       "18         1 кг, 3 кг  \n",
       "19  1 кг, 10 кг, 3 кг  \n",
       "20         1 кг, 3 кг  \n",
       "21  1 кг, 10 кг, 3 кг  \n",
       "22         1 кг, 3 кг  \n",
       "23         1 кг, 3 кг  \n",
       "24               1 кг  \n",
       "25  1 кг, 10 кг, 3 кг  \n",
       "26  1 кг, 10 кг, 3 кг  \n",
       "27         1 кг, 3 кг  \n",
       "28               1 кг  \n",
       "29         1 кг, 3 кг  \n",
       "30               1 кг  \n",
       "31  1 кг, 10 кг, 3 кг  \n",
       "32  1 кг, 10 кг, 3 кг  \n",
       "33         1 кг, 3 кг  "
      ]
     },
     "execution_count": 145,
     "metadata": {},
     "output_type": "execute_result"
    }
   ],
   "source": [
    "import requests\n",
    "from bs4 import BeautifulSoup\n",
    "import sqlite3\n",
    "\n",
    "\n",
    "\n",
    "BASE = {}\n",
    "PAGES = ['https://smallpacking.agrosem.ua/shop/','https://smallpacking.agrosem.ua/shop/page/2/','https://smallpacking.agrosem.ua/shop/page/3/']\n",
    "INFO = []\n",
    "\n",
    "\n",
    "HEADERS = {\n",
    "            'User-Agent': 'Mozilla/5.0 (Windows NT 6.1; WOW64; rv:49.0) Gecko/20100101 Firefox/49.0',\n",
    "            'Accept': 'text/html,application/xhtml+xml,application/xml;q=0.9,*/*;q=0.8',\n",
    "            'Accept-Language': 'en-US,en;q=0.5',\n",
    "            'Accept-Encoding': 'gzip, deflate',\n",
    "            'DNT': '1',\n",
    "            'Connection': 'keep-alive',\n",
    "            'Upgrade-Insecure-Requests': '1'\n",
    "        }\n",
    "\n",
    "cnt = 0\n",
    "\n",
    "for page in range(0,3):\n",
    "    \n",
    "    r = requests.get(PAGES[page], headers = HEADERS)\n",
    "\n",
    "    if r.status_code == 200:\n",
    "        \n",
    "        soup = BeautifulSoup(r.text, 'lxml')\n",
    "        \n",
    "        for el in soup.find_all('div', class_='product-from-category-container'):\n",
    "            \n",
    "            if r.status_code == 200:\n",
    "                \n",
    "                soup = BeautifulSoup(r.text, 'lxml')\n",
    "                link = el.find('a').get('href')\n",
    "                tmp = [link]\n",
    "                BASE[cnt] = tmp\n",
    "                cnt = cnt + 1\n",
    "#print(len(BASE))\n",
    "\n",
    "for k in BASE:\n",
    "    r = requests.get(BASE[k][0], headers=HEADERS)\n",
    "    if r.status_code == 200:\n",
    "        soup = BeautifulSoup(r.text, 'lxml')\n",
    "        itemName = soup.find('div', class_ = 'atributes-description').h2.text\n",
    "        itemCode = soup.find('span', class_ = 'sku').text\n",
    "        itemPrice = soup.find('span',class_ = 'regular-price').text\n",
    "        itemWeight = soup.find('tr', class_ = 'woocommerce-product-attributes-item woocommerce-product-attributes-item--attribute_pa_fasovka-dobriv').find('p').text\n",
    "\n",
    "   # print(itemName,itemCode,itemPrice,itemWeight)\n",
    "        info = {'Item_Code': itemCode,\n",
    "               'Item_Name': itemName,\n",
    "               'Item_Price': itemPrice,\n",
    "               'Item_Weight': itemWeight}\n",
    "        INFO.append(info)\n",
    "\n",
    "        \n",
    "x=[]\n",
    "y=[]\n",
    "z=[]\n",
    "m=[]\n",
    "\n",
    "for i in range(0,len(INFO)):\n",
    "    x.append(INFO[i].get('Item_Code'))\n",
    "    y.append(INFO[i].get('Item_Name'))\n",
    "    z.append(INFO[i].get('Item_Price'))\n",
    "    m.append(INFO[i].get('Item_Weight'))\n",
    "\n",
    "import pandas as pd\n",
    "for i in range (0,len(INFO)):\n",
    "    data=pd.DataFrame({'Item_Code':x,'Item_Name':y,'Item_Price':z,'ITEM_Weight':m})\n",
    "data\n"
   ]
  },
  {
   "cell_type": "markdown",
   "metadata": {},
   "source": [
    "### Завдання 3: "
   ]
  },
  {
   "cell_type": "markdown",
   "metadata": {},
   "source": [
    "Ознайомтеся із роботою SQLite та відповідним модулем у Python.\n",
    "Завантажте базу даних для виконання лабораторної роботи.\n",
    "Підключіться до завантаженої бази SQLite."
   ]
  },
  {
   "cell_type": "markdown",
   "metadata": {},
   "source": [
    "1. Виведіть інформацію про дану базу."
   ]
  },
  {
   "cell_type": "code",
   "execution_count": 180,
   "metadata": {},
   "outputs": [
    {
     "name": "stdout",
     "output_type": "stream",
     "text": [
      "('1000000001', 'Village Toys', '200 Maple Lane', 'Detroit', 'MI', '44444', 'USA', 'John Smith', 'sales@villagetoys.com')\n",
      "('1000000002', 'Kids Place', '333 South Lake Drive', 'Columbus', 'OH', '43333', 'USA', 'Michelle Green', None)\n",
      "('1000000003', 'Fun4All', '1 Sunny Place', 'Muncie', 'IN', '42222', 'USA', 'Jim Jones', 'jjones@fun4all.com')\n",
      "('1000000004', 'Fun4All', '829 Riverside Drive', 'Phoenix', 'AZ', '88888', 'USA', 'Denise L. Stephens', 'dstephens@fun4all.com')\n",
      "('1000000005', 'The Toy Store', '4545 53rd Street', 'Chicago', 'IL', '54545', 'USA', 'Kim Howard', None)\n",
      "(20005, 1, 'BR01', 100, 5.49)\n",
      "(20005, 2, 'BR03', 100, 10.99)\n",
      "(20006, 1, 'BR01', 20, 5.99)\n",
      "(20006, 2, 'BR02', 10, 8.99)\n",
      "(20006, 3, 'BR03', 10, 11.99)\n",
      "(20007, 1, 'BR03', 50, 11.49)\n",
      "(20007, 2, 'BNBG01', 100, 2.99)\n",
      "(20007, 3, 'BNBG02', 100, 2.99)\n",
      "(20007, 4, 'BNBG03', 100, 2.99)\n",
      "(20007, 5, 'RGAN01', 50, 4.49)\n",
      "(20008, 1, 'RGAN01', 5, 4.99)\n",
      "(20008, 2, 'BR03', 5, 11.99)\n",
      "(20008, 3, 'BNBG01', 10, 3.49)\n",
      "(20008, 4, 'BNBG02', 10, 3.49)\n",
      "(20008, 5, 'BNBG03', 10, 3.49)\n",
      "(20009, 1, 'BNBG01', 250, 2.49)\n",
      "(20009, 2, 'BNBG02', 250, 2.49)\n",
      "(20009, 3, 'BNBG03', 250, 2.49)\n",
      "(20005, '2012-05-01', '1000000001')\n",
      "(20006, '2012-01-12', '1000000003')\n",
      "(20007, '2012-01-30', '1000000004')\n",
      "(20008, '2012-02-03', '1000000005')\n",
      "(20009, '2012-02-08', '1000000001')\n",
      "('BR01', 'BRS01', '8 inch teddy bear', 5.99, '8 inch teddy bear, comes with cap and jacket')\n",
      "('BR02', 'BRS01', '12 inch teddy bear', 8.99, '12 inch teddy bear, comes with cap and jacket')\n",
      "('BR03', 'BRS01', '18 inch teddy bear', 11.99, '18 inch teddy bear, comes with cap and jacket')\n",
      "('BNBG01', 'DLL01', 'Fish bean bag toy', 3.49, 'Fish bean bag toy, complete with bean bag worms with which to feed it')\n",
      "('BNBG02', 'DLL01', 'Bird bean bag toy', 3.49, 'Bird bean bag toy, eggs are not included')\n",
      "('BNBG03', 'DLL01', 'Rabbit bean bag toy', 3.49, 'Rabbit bean bag toy, comes with bean bag carrots')\n",
      "('RGAN01', 'DLL01', 'Raggedy Ann', 4.99, '18 inch Raggedy Ann doll')\n",
      "('RYL01', 'FNG01', 'King doll', 9.49, '12 inch king doll with royal garments and crown')\n",
      "('RYL02', 'FNG01', 'Queen doll', 9.49, '12 inch queen doll with royal garments and crown')\n",
      "('BRS01', 'Bears R Us', '123 Main Street', 'Bear Town', 'MI', '44444', 'USA')\n",
      "('BRE02', 'Bear Emporium', '500 Park Street', 'Anytown', 'OH', '44333', 'USA')\n",
      "('DLL01', 'Doll House Inc.', '555 High Street', 'Dollsville', 'CA', '99999', 'USA')\n",
      "('FRB01', 'Furball Inc.', '1000 5th Avenue', 'New York', 'NY', '11111', 'USA')\n",
      "('FNG01', 'Fun and Games', '42 Galaxy Road', 'London', None, 'N16 6PS', 'England')\n",
      "('JTS01', 'Jouets et ours', '1 Rue Amusement', 'Paris', None, '45678', 'France')\n"
     ]
    }
   ],
   "source": [
    "import sqlite3\n",
    "import pandas as pd\n",
    "\n",
    "con=sqlite3.connect('tysql.sqlite')\n",
    "curs = con.cursor()\n",
    "curs.execute('SELECT * from Customers ')\n",
    "\n",
    "rows=curs.fetchall()\n",
    "for row in rows:\n",
    "    print(row)\n",
    "curs.execute('SELECT * from OrderItems')\n",
    "rows=curs.fetchall()\n",
    "for row in rows:\n",
    "    print(row)\n",
    "curs.execute('SELECT * from Orders')\n",
    "rows=curs.fetchall()\n",
    "for row in rows:\n",
    "    print(row)\n",
    "curs.execute('SELECT * from Products')\n",
    "rows=curs.fetchall()\n",
    "for row in rows:\n",
    "    print(row)\n",
    "curs.execute('SELECT * from Vendors')\n",
    "rows=curs.fetchall()\n",
    "for row in rows:\n",
    "    print(row)\n",
    "    con.close()\n"
   ]
  },
  {
   "cell_type": "markdown",
   "metadata": {},
   "source": [
    "2. Виведіть перелік всіх таблиць."
   ]
  },
  {
   "cell_type": "code",
   "execution_count": 177,
   "metadata": {},
   "outputs": [
    {
     "name": "stdout",
     "output_type": "stream",
     "text": [
      "[('Customers',), ('OrderItems',), ('Orders',), ('Products',), ('Vendors',)]\n"
     ]
    }
   ],
   "source": [
    "import sqlite3\n",
    "con=sqlite3.connect('tysql.sqlite')\n",
    "curs = con.cursor()\n",
    "curs.execute('SELECT name from sqlite_master where type=\"table\"')\n",
    "print(curs.fetchall())\n",
    "con.close()"
   ]
  },
  {
   "cell_type": "markdown",
   "metadata": {},
   "source": [
    "3. Список всіх cust_id з таблиці Customers table."
   ]
  },
  {
   "cell_type": "code",
   "execution_count": 179,
   "metadata": {},
   "outputs": [
    {
     "name": "stdout",
     "output_type": "stream",
     "text": [
      "('1000000001',)\n",
      "('1000000002',)\n",
      "('1000000003',)\n",
      "('1000000004',)\n",
      "('1000000005',)\n"
     ]
    }
   ],
   "source": [
    "import sqlite3\n",
    "con=sqlite3.connect('tysql.sqlite')\n",
    "curs = con.cursor()\n",
    "curs.execute(\"SELECT cust_id FROM Customers\")\n",
    "rows=curs.fetchall()\n",
    "for row in rows:\n",
    "    print(row)\n",
    "con.close()"
   ]
  },
  {
   "cell_type": "markdown",
   "metadata": {},
   "source": [
    "4. Всю таблицю Customers table"
   ]
  },
  {
   "cell_type": "code",
   "execution_count": 180,
   "metadata": {},
   "outputs": [
    {
     "name": "stdout",
     "output_type": "stream",
     "text": [
      "('1000000001', 'Village Toys', '200 Maple Lane', 'Detroit', 'MI', '44444', 'USA', 'John Smith', 'sales@villagetoys.com')\n",
      "('1000000002', 'Kids Place', '333 South Lake Drive', 'Columbus', 'OH', '43333', 'USA', 'Michelle Green', None)\n",
      "('1000000003', 'Fun4All', '1 Sunny Place', 'Muncie', 'IN', '42222', 'USA', 'Jim Jones', 'jjones@fun4all.com')\n",
      "('1000000004', 'Fun4All', '829 Riverside Drive', 'Phoenix', 'AZ', '88888', 'USA', 'Denise L. Stephens', 'dstephens@fun4all.com')\n",
      "('1000000005', 'The Toy Store', '4545 53rd Street', 'Chicago', 'IL', '54545', 'USA', 'Kim Howard', None)\n"
     ]
    }
   ],
   "source": [
    "import sqlite3\n",
    "con=sqlite3.connect('tysql.sqlite')\n",
    "curs = con.cursor()\n",
    "curs.execute(\"SELECT * FROM Customers\")\n",
    "rows=curs.fetchall()\n",
    "for row in rows:\n",
    "    print(row)\n",
    "con.close()"
   ]
  },
  {
   "cell_type": "markdown",
   "metadata": {},
   "source": [
    "5. Список клієнтів (cust_names) відсортованих від Z до A"
   ]
  },
  {
   "cell_type": "code",
   "execution_count": 183,
   "metadata": {},
   "outputs": [
    {
     "name": "stdout",
     "output_type": "stream",
     "text": [
      "('Village Toys',)\n",
      "('The Toy Store',)\n",
      "('Kids Place',)\n",
      "('Fun4All',)\n",
      "('Fun4All',)\n"
     ]
    }
   ],
   "source": [
    "import sqlite3\n",
    "con=sqlite3.connect('tysql.sqlite')\n",
    "curs = con.cursor()\n",
    "curs.execute(\"SELECT cust_name FROM Customers ORDER BY cust_name DESC\")\n",
    "rows=curs.fetchall()\n",
    "for row in rows:\n",
    "    print(row)\n",
    "con.close()"
   ]
  },
  {
   "cell_type": "markdown",
   "metadata": {},
   "source": [
    "6. Таблицю клієнтів та замовлень (cust_id і order_num) . Відсортуйте по клієнту і потім по даті замовлення"
   ]
  },
  {
   "cell_type": "code",
   "execution_count": 192,
   "metadata": {},
   "outputs": [
    {
     "name": "stdout",
     "output_type": "stream",
     "text": [
      "('1000000001', '2012-05-01')\n",
      "('1000000001', '2012-02-08')\n",
      "('1000000003', '2012-01-12')\n",
      "('1000000004', '2012-01-30')\n",
      "('1000000005', '2012-02-03')\n"
     ]
    }
   ],
   "source": [
    "import sqlite3\n",
    "con=sqlite3.connect('tysql.sqlite')\n",
    "curs = con.cursor()\n",
    "curs.execute(\"SELECT cust_id,order_date FROM Orders ORDER BY cust_id, order_num\")\n",
    "\n",
    "rows=curs.fetchall()\n",
    "for row in rows:\n",
    "    print(row)\n",
    "con.close()"
   ]
  },
  {
   "cell_type": "markdown",
   "metadata": {},
   "source": [
    "7. Таблицю (на основі Items) з кількість та вартістю товару. Відсортуйте в порядку спадання по кількості та вартості"
   ]
  },
  {
   "cell_type": "code",
   "execution_count": 188,
   "metadata": {},
   "outputs": [
    {
     "name": "stdout",
     "output_type": "stream",
     "text": [
      "('BNBG01', 250, 2.49)\n",
      "('BNBG02', 250, 2.49)\n",
      "('BNBG03', 250, 2.49)\n",
      "('BR03', 100, 10.99)\n",
      "('BR01', 100, 5.49)\n",
      "('BNBG01', 100, 2.99)\n",
      "('BNBG02', 100, 2.99)\n",
      "('BNBG03', 100, 2.99)\n",
      "('BR03', 50, 11.49)\n",
      "('RGAN01', 50, 4.49)\n",
      "('BR01', 20, 5.99)\n",
      "('BR03', 10, 11.99)\n",
      "('BR02', 10, 8.99)\n",
      "('BNBG01', 10, 3.49)\n",
      "('BNBG02', 10, 3.49)\n",
      "('BNBG03', 10, 3.49)\n",
      "('BR03', 5, 11.99)\n",
      "('RGAN01', 5, 4.99)\n"
     ]
    }
   ],
   "source": [
    "import sqlite3\n",
    "con=sqlite3.connect('tysql.sqlite')\n",
    "curs = con.cursor()\n",
    "curs.execute(\"SELECT prod_id,quantity,item_price FROM OrderItems ORDER BY quantity DESC, item_price DESC\")\n",
    "\n",
    "rows=curs.fetchall()\n",
    "for row in rows:\n",
    "    print(row)\n",
    "con.close()"
   ]
  },
  {
   "cell_type": "markdown",
   "metadata": {},
   "source": [
    "8. Товар (з таблиці Products), ціна якого становить 9.49"
   ]
  },
  {
   "cell_type": "code",
   "execution_count": 190,
   "metadata": {},
   "outputs": [
    {
     "name": "stdout",
     "output_type": "stream",
     "text": [
      "('King doll', 9.49)\n",
      "('Queen doll', 9.49)\n"
     ]
    }
   ],
   "source": [
    "import sqlite3\n",
    "con=sqlite3.connect('tysql.sqlite')\n",
    "curs = con.cursor()\n",
    "curs.execute(\"SELECT prod_name,prod_price FROM Products WHERE prod_price='9.49'\")\n",
    "\n",
    "rows=curs.fetchall()\n",
    "for row in rows:\n",
    "    print(row)\n",
    "con.close()"
   ]
  },
  {
   "cell_type": "markdown",
   "metadata": {},
   "source": [
    "9. Виведіть назву товару та ціну, яка лежить в діапазоні від  3 до 6. Відсортуйте результат в по ціні в порядку зростання"
   ]
  },
  {
   "cell_type": "code",
   "execution_count": 272,
   "metadata": {},
   "outputs": [
    {
     "name": "stdout",
     "output_type": "stream",
     "text": [
      "('Fish bean bag toy', 3.49)\n",
      "('Bird bean bag toy', 3.49)\n",
      "('Rabbit bean bag toy', 3.49)\n",
      "('Raggedy Ann', 4.99)\n",
      "('8 inch teddy bear', 5.99)\n"
     ]
    }
   ],
   "source": [
    "import sqlite3\n",
    "con=sqlite3.connect('tysql.sqlite')\n",
    "curs = con.cursor()\n",
    "curs.execute(\"SELECT prod_name,prod_price FROM Products WHERE prod_price BETWEEN 3 AND 6 ORDER BY prod_price\")\n",
    "\n",
    "rows=curs.fetchall()\n",
    "for row in rows:\n",
    "    print(row)\n",
    "con.close()"
   ]
  },
  {
   "cell_type": "markdown",
   "metadata": {},
   "source": [
    "10. Кількість товару, що було продано"
   ]
  },
  {
   "cell_type": "code",
   "execution_count": 195,
   "metadata": {},
   "outputs": [
    {
     "name": "stdout",
     "output_type": "stream",
     "text": [
      "(45,)\n"
     ]
    }
   ],
   "source": [
    "import sqlite3\n",
    "con=sqlite3.connect('tysql.sqlite')\n",
    "curs = con.cursor()\n",
    "curs.execute(\"SELECT SUM(order_item) FROM OrderItems \")\n",
    "\n",
    "rows=curs.fetchall()\n",
    "for row in rows:\n",
    "    print(row)\n",
    "con.close()"
   ]
  },
  {
   "cell_type": "markdown",
   "metadata": {},
   "source": [
    "11. Кількість найменувань товару, ціна якого більша за 4"
   ]
  },
  {
   "cell_type": "code",
   "execution_count": 203,
   "metadata": {},
   "outputs": [
    {
     "name": "stdout",
     "output_type": "stream",
     "text": [
      "(350,)\n"
     ]
    }
   ],
   "source": [
    "import sqlite3\n",
    "con=sqlite3.connect('tysql.sqlite')\n",
    "curs = con.cursor()\n",
    "curs.execute(\"SELECT SUM(quantity) FROM OrderItems WHERE item_price > 4 \")\n",
    "\n",
    "rows=curs.fetchall()\n",
    "for row in rows:\n",
    "    print(row)\n",
    "con.close()"
   ]
  },
  {
   "cell_type": "markdown",
   "metadata": {},
   "source": [
    "12. Розробіть алгоритм для виведення 3 найдорожчих товарів в базі"
   ]
  },
  {
   "cell_type": "code",
   "execution_count": 271,
   "metadata": {
    "scrolled": true
   },
   "outputs": [
    {
     "name": "stdout",
     "output_type": "stream",
     "text": [
      "('18 inch teddy bear', 11.99)\n",
      "('King doll', 9.49)\n",
      "('Queen doll', 9.49)\n"
     ]
    }
   ],
   "source": [
    "import sqlite3\n",
    "con=sqlite3.connect('tysql.sqlite')\n",
    "curs = con.cursor()\n",
    "curs.execute(\"SELECT prod_name, prod_price FROM Products ORDER BY prod_price DESC LIMIT 3\")\n",
    "\n",
    "rows=curs.fetchall()\n",
    "for row in rows:\n",
    "    print(row)\n",
    "con.close()"
   ]
  },
  {
   "cell_type": "markdown",
   "metadata": {},
   "source": [
    "13. Підрахуйте кількість замовлень для кожного клієнта використовуючи підзапити"
   ]
  },
  {
   "cell_type": "code",
   "execution_count": 12,
   "metadata": {},
   "outputs": [
    {
     "name": "stdout",
     "output_type": "stream",
     "text": [
      "(2, 'Village Toys')\n",
      "(1, 'Fun4All')\n",
      "(1, 'Fun4All')\n",
      "(1, 'The Toy Store')\n"
     ]
    }
   ],
   "source": [
    "import sqlite3\n",
    "con=sqlite3.connect('tysql.sqlite')\n",
    "curs = con.cursor()\n",
    "curs.execute(\"SELECT COUNT(order_num),cust_name as count FROM Orders LEFT OUTER JOIN Customers ON Customers.cust_id=Orders.cust_id GROUP BY Orders.cust_id HAVING count>0\")\n",
    "\n",
    "rows=curs.fetchall()\n",
    "for row in rows:\n",
    "    print(row)\n",
    "con.close()"
   ]
  },
  {
   "cell_type": "markdown",
   "metadata": {},
   "source": [
    "14. Виведіть список клієнтів та їх замовлення (використайте JOIN)"
   ]
  },
  {
   "cell_type": "code",
   "execution_count": 9,
   "metadata": {},
   "outputs": [
    {
     "name": "stdout",
     "output_type": "stream",
     "text": [
      "('Fun4All', 1)\n",
      "('Fun4All', 1)\n",
      "('The Toy Store', 1)\n",
      "('Village Toys', 2)\n"
     ]
    }
   ],
   "source": [
    "import sqlite3\n",
    "con=sqlite3.connect('tysql.sqlite')\n",
    "curs = con.cursor()\n",
    "curs.execute(\"SELECT cust_name , COUNT(order_num) as Number FROM Customers  JOIN Orders AS o USING (cust_id) GROUP BY (o.cust_id) ORDER BY Number\")\n",
    "\n",
    "rows=curs.fetchall()\n",
    "for row in rows:\n",
    "    print(row)\n",
    "con.close()"
   ]
  },
  {
   "cell_type": "markdown",
   "metadata": {},
   "source": [
    "15. Зробіть два запити: список товарів, ціна яких менша 5 та список товарів, ціна який більша рівна 5. Використайте UNION для об'єднання цих запитів"
   ]
  },
  {
   "cell_type": "code",
   "execution_count": 270,
   "metadata": {},
   "outputs": [
    {
     "name": "stdout",
     "output_type": "stream",
     "text": [
      "('12 inch teddy bear', 8.99)\n",
      "('18 inch teddy bear', 11.99)\n",
      "('8 inch teddy bear', 5.99)\n",
      "('Bird bean bag toy', 3.49)\n",
      "('Fish bean bag toy', 3.49)\n",
      "('King doll', 9.49)\n",
      "('Queen doll', 9.49)\n",
      "('Rabbit bean bag toy', 3.49)\n",
      "('Raggedy Ann', 4.99)\n"
     ]
    }
   ],
   "source": [
    "import sqlite3\n",
    "con=sqlite3.connect('tysql.sqlite')\n",
    "curs = con.cursor()\n",
    "a=curs.execute(\"SELECT prod_name, prod_price FROM Products WHERE prod_price < 5 UNION SELECT prod_name, prod_price FROM Products WHERE prod_price > 5\")\n",
    "rows=curs.fetchall()\n",
    "for row in rows:\n",
    "    print(row)\n",
    "con.close()"
   ]
  },
  {
   "cell_type": "markdown",
   "metadata": {},
   "source": [
    "### Завдання 4: "
   ]
  },
  {
   "cell_type": "markdown",
   "metadata": {},
   "source": [
    "Зареєструйтеся на сайті  http://www.sql-ex.ru/\n",
    "\n",
    "Виконайте завдання із блоку SELECT; з 1 по 30 завдання\n",
    "\n",
    "Код запитів вставляйте сюди\n"
   ]
  },
  {
   "cell_type": "markdown",
   "metadata": {},
   "source": [
    "### 1\n",
    "SELECT model,speed,hd \n",
    "FROM PC \n",
    "WHERE price<500\n",
    "### 2 \n",
    "SELECT DISTINCT maker \n",
    "FROM product \n",
    "WHERE type='Printer'\n",
    "### 3\n",
    "SELECT model,ram,screen \n",
    "FROM Laptop \n",
    "WHERE price>1000\n",
    "### 4 \n",
    "SELECT * \n",
    "FROM printer \n",
    "WHERE color='y'\n",
    "### 5 \n",
    "SELECT model,speed,hd \n",
    "FROM PC \n",
    "WHERE (cd='12x' OR cd='24x') AND price<600\n",
    "### 6 \n",
    "SELECT DISTINCT Product.maker, Laptop.speed \n",
    "FROM PRODUCT INNER JOIN\n",
    "Laptop ON Laptop.model = Product.model\n",
    "WHERE Laptop.hd>=10\n",
    "ORDER BY maker\n",
    "### 7 \n",
    "SELECT model, price\n",
    "FROM PC\n",
    "WHERE model IN(SELECT model \n",
    "\tFrom Product\n",
    "\tWHERE maker='B'\n",
    ")\n",
    "UNION\n",
    "SELECT model, price\n",
    "FROM LAPTOP\n",
    "WHERE model IN(SELECT model \n",
    "\tFrom Product\n",
    "\tWHERE maker='B'\n",
    ")\n",
    "UNION\n",
    "SELECT model, price\n",
    "FROM Printer\n",
    "WHERE model IN(SELECT model \n",
    "\tFrom Product\n",
    "\tWHERE maker='B'\n",
    ")\n",
    "\n",
    "### 8 \n",
    "SELECT DISTINCT maker\n",
    "FROM Product\n",
    "WHERE type='PC'\n",
    "\n",
    "EXCEPT\n",
    "\n",
    "SELECT maker\n",
    "FROM Product\n",
    "WHERE type = 'Laptop'\n",
    "### 9 \n",
    "SELECT DISTINCT maker\n",
    "FROM Product RIGHT JOIN\n",
    "PC ON Product.model = PC.model\n",
    "WHERE speed>=450\n",
    "\n",
    "### 10 \n",
    "SELECT model,price\n",
    "FROM Printer\n",
    "GROUP BY model,price\n",
    "HAVING price=(SELECT MAX(price)\n",
    "FROM Printer)\n",
    "### 11\n",
    "SELECT AVG(speed)\n",
    "FROM PC\n",
    "\n",
    "### 12 \n",
    "SELECT AVG(SPEED)\n",
    "FROM Laptop\n",
    "WHERE price>1000\n",
    "### 13 \n",
    "SELECT AVG(speed)\n",
    "FROM PC RIGHT JOIN \n",
    "Product ON PC.model=Product.model\n",
    "WHERE Product.maker='A'\n",
    "\n",
    "### 14 \n",
    "SELECT Ships.class,name,Classes.country\n",
    "FROM Ships INNER JOIN \n",
    "Classes ON Ships.class=Classes.class\n",
    "WHERE Classes.numGuns>=10\n",
    "\n",
    "### 15 \n",
    "SELECT hd\n",
    "FROM PC\n",
    "GROUP BY hd\n",
    "HAVING COUNT(hd)>=2\n",
    "\n",
    "### 16 \n",
    "SELECT DISTINCT Bigger.model AS model,Smaller.model AS model, Bigger.speed,Bigger.ram\n",
    "FROM PC AS Bigger, PC Smaller\n",
    "WHERE Bigger.speed = Smaller.speed AND\n",
    "Bigger.ram = Smaller.ram AND\n",
    "Bigger.model>Smaller.model\n",
    "### 17 \n",
    "SELECT DISTINCT type,Laptop.model,speed\n",
    "FROM Laptop, Product\n",
    "WHERE Product.model=Laptop.model AND\n",
    "speed < (SELECT MIN(speed) from PC)\n",
    "\n",
    "### 18 \n",
    "SELECT DISTINCT maker,price\n",
    "FROM PRODUCT JOIN \n",
    "Printer ON Product.model=Printer.model\n",
    "WHERE Printer.color='y'\n",
    "AND Printer.price=(SELECT min(p.price)\n",
    "FROM Printer p\n",
    "WHERE p.color='y')\n",
    "\n",
    "### 19 \n",
    "SELECT DISTINCT maker,AVG(screen)\n",
    "FROM Product JOIN\n",
    "Laptop ON Product.model = Laptop.model\n",
    "GROUP BY maker\n",
    "### 20 \n",
    "SELECT  maker, COUNT(model)\n",
    "From Product\n",
    "\n",
    "WHERE type='PC' \n",
    "\n",
    "GROUP BY maker,type\n",
    "HAVING COUNT(model)>=3\n",
    "### 21 \n",
    "SELECT DISTINCT maker,MAX(price)\n",
    "FROM Product JOIN\n",
    "PC ON PC.model=Product.model\n",
    "GROUP BY maker\n",
    "### 22 \n",
    "SELECT speed,AVG(price)\n",
    "FROM PC\n",
    "WHERE speed > 600\n",
    "GROUP BY speed\n",
    "\n",
    "### 23 \n",
    "SELECT DISTINCT Product.maker \n",
    "FROM Product, PC\n",
    "WHERE Product.model=PC.model\n",
    "AND Product.type='PC'\n",
    "AND PC.speed>=750\n",
    "AND EXISTS(SELECT 'x' from Laptop,Product p\n",
    "WHERE p.model=Laptop.model\n",
    "AND p.type='Laptop'\n",
    "AND p.maker=Product.maker\n",
    "AND Laptop.speed>=750\n",
    ")\n",
    "\n",
    "### 24 \n",
    "SELECT DISTINCT Product.model\n",
    "FROM Product,PC,Laptop,Printer\n",
    "WHERE Product.model IN (PC.model,Laptop.model,Printer.model) AND\n",
    "PC.price=(select max(PC.price) from PC) AND\n",
    "Laptop.price=(select max(Laptop.price) from Laptop) AND\n",
    "Printer.price=(select max(Printer.price) from Printer) AND(\n",
    "(PC.price>=Laptop.price AND PC.price>=Printer.price AND Product.model=PC.model) OR\n",
    "(Laptop.price>=PC.price AND Laptop.price>=Printer.price AND Product.model=Laptop.model) OR\n",
    "(Printer.price>=PC.price AND Printer.price>=Laptop.price AND Product.model=Printer.model)\n",
    ")\n",
    "\n",
    "### 25 \n",
    "SELECT DISTINCT Product.maker\n",
    "FROM Product,PC\n",
    "WHERE Product.type='PC' AND\n",
    "Product.model=PC.model AND \n",
    "PC.ram=(SELECT MIN(PC.ram) FROM PC WHERE ram<>0) AND \n",
    "PC.speed=(SELECT MAX(PC.speed) FROM PC \n",
    "WHERE PC.ram=(SELECT MIN(PC.ram) FROM PC WHERE ram<>0)) AND \n",
    "EXISTS(select 'x' from product p\n",
    "where p.type='Printer'\n",
    "and p.maker=product.maker)\n",
    "\n",
    "### 26 \n",
    "SELECT AVG(price) \n",
    "FROM(SELECT price FROM PC WHERE model IN(\n",
    "SELECT model FROM Product WHERE maker='A' AND type='PC')\n",
    "UNION ALL\n",
    "SELECT price FROM laptop WHERE model IN(\n",
    "SELECT model FROM product WHERE maker='A' AND type='Laptop')\n",
    ") as result\n",
    "### 27 \n",
    "SELECT Product.maker,SUM(PC.hd)/count(*)\n",
    "FROM Product, PC\n",
    "WHERE Product.type='PC' AND\n",
    "Product.model=PC.model AND \n",
    "EXISTS(select 'x' FROM Product p\n",
    "WHERE p.maker=Product.maker AND \n",
    "p.type='Printer')\n",
    "GROUP BY Product.maker\n",
    "\n",
    "### 28\n",
    "SELECT COUNT(*)\n",
    "FROM (SELECT maker\n",
    "FROM product \n",
    "GROUP BY maker\n",
    "HAVING COUNT(model)=1\n",
    ") as result\n",
    "\n",
    "### 29 \n",
    "SELECT Income_o.point, Income_o.date,SUM(inc),SUM(out)\n",
    "FROM Income_o LEFT JOIN\n",
    "Outcome_O ON Income_o.point=Outcome_o.point AND\n",
    "Income_o.date=Outcome_o.date\n",
    "GROUP BY Income_o.point,Income_o.date\n",
    "UNION\n",
    "SELECT Outcome_o.point,Outcome_o.date,SUM(inc),SUM(out)\n",
    "FROM Outcome_o LEFT JOIN\n",
    "Income_o ON Income_o.point = Outcome_o.point AND\n",
    "Income_o.date=Outcome_o.date\n",
    "GROUP BY Outcome_o.point,Outcome_o.date\n",
    "\n",
    "### 30 \n",
    "SELECT DISTINCT point,date,SUM(out) AS out,SUM(inc) AS inc \n",
    "FROM(SELECT Income.point,Income.date,out,inc\n",
    "FROM Income LEFT JOIN\n",
    "Outcome ON Income.point = Outcome.point AND \n",
    "Income.date=Outcome.date AND\n",
    "Income.code=Outcome.code\n",
    "UNION ALL\n",
    "SELECT Outcome.point, Outcome.date,out, inc\n",
    "FROM Outcome LEFT JOIN\n",
    "Income ON Income.point = Outcome.point AND \n",
    "Income.date=Outcome.date AND\n",
    "Income.code=Outcome.code) AS t\n",
    "GROUP BY point,date\n",
    "\n",
    "\n",
    "\n"
   ]
  }
 ],
 "metadata": {
  "kernelspec": {
   "display_name": "Python 3",
   "language": "python",
   "name": "python3"
  },
  "language_info": {
   "codemirror_mode": {
    "name": "ipython",
    "version": 3
   },
   "file_extension": ".py",
   "mimetype": "text/x-python",
   "name": "python",
   "nbconvert_exporter": "python",
   "pygments_lexer": "ipython3",
   "version": "3.8.5"
  }
 },
 "nbformat": 4,
 "nbformat_minor": 2
}
