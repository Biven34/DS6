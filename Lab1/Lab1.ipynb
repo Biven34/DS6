{
 "cells": [
  {
   "cell_type": "markdown",
   "metadata": {},
   "source": [
    "# 1. Markdown cells\n",
    "* Hi! Its Main Academy?\n",
    "* All HTML tabs are supported!\n",
    "* My page on [Github](https://github.com/Biven34)\n",
    "\n",
    "# This is heading1\n",
    "\n",
    "## This is heading2\n",
    "\n",
    "some gray colored text:\n",
    "> This is where we can bring quotes and present them nicely\n",
    "\n",
    "And this is the paragraph about something very important. Even math:\n",
    "\n",
    " <div style=\"text-align:right\">\n",
    "    \n",
    "#### $y_{sub}$=$\\sqrt{(x_{sub})}$ \n",
    "    \n",
    "Or python code example:\n",
    "<div style=\"text-align:left\">  \n",
    "    \n",
    "```python\n",
    "    import math\n",
    "    def foo():\n",
    "         return \"foo\"\n",
    "    \n",
    "    \n",
    "```\n",
    "    \n",
    "Here is a sample mean:\n",
    "    \n",
    "<div style=\"text-align:center\"> \n",
    "    \n",
    "## $\\bar{y}$=$\\frac{1}{n}$$\\sum_{i=1}^{n} y_i$\n",
    "\n",
    "Here is a sample variance: \n",
    "    \n",
    "<div style=\"text-align:center\">\n",
    "\n",
    "## $\\sigma^2$=$\\frac{\\sum_{i=1}^{n} (y_i-\\bar{y})^2}{n-1}$\n",
    "    \n",
    "Here is the sample standard deviation:    \n",
    "<div style=\"text-align:center\">   \n",
    "\n",
    "## $\\sigma$=$\\sqrt{\\frac{\\sum_{i=1}^{n} (y_i-\\bar{y})^2}{n-1}}$"
   ]
  },
  {
   "cell_type": "code",
   "execution_count": null,
   "metadata": {},
   "outputs": [],
   "source": []
  }
 ],
 "metadata": {
  "kernelspec": {
   "display_name": "Python 3",
   "language": "python",
   "name": "python3"
  },
  "language_info": {
   "codemirror_mode": {
    "name": "ipython",
    "version": 3
   },
   "file_extension": ".py",
   "mimetype": "text/x-python",
   "name": "python",
   "nbconvert_exporter": "python",
   "pygments_lexer": "ipython3",
   "version": "3.8.5"
  }
 },
 "nbformat": 4,
 "nbformat_minor": 4
}
