{
 "cells": [
  {
   "cell_type": "code",
   "execution_count": 2,
   "metadata": {},
   "outputs": [
    {
     "name": "stdout",
     "output_type": "stream",
     "text": [
      "Give your coordinate10 20\n",
      "[2561.0, 1730.0, 3226.0]\n",
      "The closest shop is shop 2\n"
     ]
    }
   ],
   "source": [
    "SHOP_1=(50,51)\n",
    "SHOP_2=(47,39)\n",
    "SHOP_3=(61,45)\n",
    "#holder is a list to hold distance values\n",
    "holder=[0,0,0]\n",
    "\n",
    "#same as in lesson\n",
    "def user_location():\n",
    "    try:\n",
    "        x,y=input('Give your coordinate').split()\n",
    "        x,y=float(x),float(y)\n",
    "        return (x,y)\n",
    "    except Exception as e:\n",
    "        #print(e)\n",
    "        return None\n",
    "#First I create a list with 3 given location coordinates\n",
    "def dist(u_l):\n",
    "    my_list = (SHOP_1 , SHOP_2 , SHOP_3)\n",
    "#I calculate the square distance to the object and store it in my holder list\n",
    "    for i in range(len(my_list)):\n",
    "        newX , newY = my_list[i]\n",
    "        #print(newX,newY)\n",
    "        c = (u_l[0] - newX) ** 2 + (u_l[1] - newY) ** 2\n",
    "       # print (my_list[i])\n",
    "        holder[i] = c\n",
    "        #print(holder)  \n",
    "    print(holder)\n",
    "#I return the minimal value of the list through passing my value to find_min function\n",
    "    return find_min(holder)\n",
    "    \n",
    "\n",
    "def find_min(list_of_values):\n",
    "#Here I create a dictionary to hold all the keys and values together\n",
    "    dicti = {'shop 1' : holder[0] , 'shop 2' : holder[1] , 'shop 3' : holder[2]}\n",
    "#use sorted and .get method to make sure that I only take the smallest value\n",
    "    dicti = sorted(dicti, key = dicti.get)\n",
    "    \n",
    "    return dicti[0]\n",
    "\n",
    "if __name__=='__main__':\n",
    "    u_l = user_location()\n",
    "    if u_l==None:\n",
    "        print('Not possible to get user data')\n",
    "    else:\n",
    "        distance=dist(u_l)\n",
    "        print('The closest shop is',distance)\n"
   ]
  },
  {
   "cell_type": "code",
   "execution_count": 3,
   "metadata": {},
   "outputs": [
    {
     "name": "stdout",
     "output_type": "stream",
     "text": [
      "Give your coordinates 10 20\n",
      "SHOP_2\n"
     ]
    }
   ],
   "source": [
    "###### Cheating version with geopy\n",
    "#Find minimum with geopy.distance.distance method which finds geodesic distance\n",
    "#of two coordinates on the map, assuming that these are on the same altitude\n",
    "from geopy import distance\n",
    "\n",
    "SHOP_1 = (50, 51) \n",
    "SHOP_2 = (47, 39) \n",
    "SHOP_3 = (61, 45)\n",
    "\n",
    "#Same as in lesson\n",
    "def user_location():\n",
    "    try:\n",
    "        x, y = input ('Give your coordinates ').split()\n",
    "        x, y = float (x), float (y) \n",
    "        return (x, y)\n",
    "    \n",
    "    except Exception as e:\n",
    "        print (e) \n",
    "        return None \n",
    "\n",
    "def find_min(user_location):\n",
    "#first we make a dictionary with name of the shop and the distance of the shop\n",
    "#to the user location in miles.\n",
    "#Than we sort by distance using .get and return the first value of the list(smallest distance)\n",
    "    my_dictionary = {'SHOP_1': distance.distance(SHOP_1, user_location).miles, 'SHOP_2': distance.distance(SHOP_2, user_location).miles, 'SHOP_3':distance.distance(SHOP_3,user_location).miles}\n",
    "    new_dictionary = sorted (my_dictionary, key = my_dictionary.get) \n",
    "\n",
    "    return new_dictionary[0]\n",
    "\n",
    "#same as in lesson\n",
    "if __name__ == '__main__':\n",
    "    u_l = user_location()\n",
    "    if u_l == None:\n",
    "        print ('Not possible to get user data')\n",
    "    else:\n",
    "        res = find_min(u_l) \n",
    "        print (res)"
   ]
  }
 ],
 "metadata": {
  "kernelspec": {
   "display_name": "Python 3",
   "language": "python",
   "name": "python3"
  },
  "language_info": {
   "codemirror_mode": {
    "name": "ipython",
    "version": 3
   },
   "file_extension": ".py",
   "mimetype": "text/x-python",
   "name": "python",
   "nbconvert_exporter": "python",
   "pygments_lexer": "ipython3",
   "version": "3.8.5"
  }
 },
 "nbformat": 4,
 "nbformat_minor": 4
}
