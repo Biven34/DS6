{
 "cells": [
  {
   "cell_type": "markdown",
   "metadata": {},
   "source": [
    "___\n",
    "\n",
    "<a href='https://mainacademy.ua/'> <img src='https://mainacademy.ua/wp-content/uploads/2019/03/logo-main.png' alt = 'Хмм, щось з інтернетом'/></a>\n",
    "___\n",
    "\n",
    "# Module 7: Supervised learning"
   ]
  },
  {
   "cell_type": "markdown",
   "metadata": {},
   "source": [
    "## Lab work 7\n",
    "\n"
   ]
  },
  {
   "cell_type": "markdown",
   "metadata": {},
   "source": [
    "#### Мета: \n",
    "\n",
    "* навчитися використовувати моделі з учителем"
   ]
  },
  {
   "cell_type": "markdown",
   "metadata": {},
   "source": [
    "### Завдання 1:"
   ]
  },
  {
   "cell_type": "markdown",
   "metadata": {},
   "source": [
    "Для цього завдання ми будемо вивчати загальнодоступні дані з [LendingClub.com](www.lendingclub.com). \n",
    "\n",
    "Кредитний клуб пов'язує людей, яким потрібні гроші (позичальники), та людей, які мають гроші (інвесторів). Сподіваємось, як інвестор ви хотіли б інвестувати в людей, які продемонстрували, що вони мають високу ймовірність повернути вам гроші. Ми спробуємо створити модель, яка допоможе це передбачити."
   ]
  },
  {
   "cell_type": "markdown",
   "metadata": {},
   "source": [
    "Кредитний клуб мав [дуже цікавий 2016 рік](https://en.wikipedia.org/wiki/Lending_Club#2016), тож давайте перевіримо деякі їх дані.\n",
    "\n",
    "Ми використовуватимемо дані про позики за 2007-2010 роки та намагатимемося класифікувати та прогнозувати, чи повертав позичальник їх повністю."
   ]
  },
  {
   "cell_type": "markdown",
   "metadata": {},
   "source": [
    "Ось що представляють стовпці:\n",
    "* `credit.policy`: 1, якщо клієнт відповідає критеріям андеррайтингу кредитів LendingClub.com, і 0 в іншому випадку.\n",
    "\n",
    "* `purpose`: мета позики (приймає значення \"кредитна_карта\", \"консолідація боргу\", \"освітня\", \"основна_покупка\", \"малий бізнес\" та \"всі_інші\").\n",
    "\n",
    "* `int.rate`: процентна ставка позики, пропорційно (ставка 11% зберігатиметься як 0,11). Позичальникам, які LendingClub.com вважає більш ризикованими, призначаються вищі процентні ставки.\n",
    "\n",
    "* `installment`: щомісячні виплати позичальника, якщо позика фінансується.\n",
    "\n",
    "* `log.annual.inc`: журнал річного доходу позичальника, який самостійно звітується.\n",
    "\n",
    "* `dti`: відношення боргу до доходу позичальника (сума боргу, поділена на річний дохід).\n",
    "\n",
    "* `fico`: кредитний рейтинг позичальника FICO.\n",
    "\n",
    "* `days.with.cr.line`: кількість днів, коли позичальник мав кредитну лінію.\n",
    "\n",
    "* `revol.bal`: кредитний залишок позичальника (сума не виплачена в кінці циклу виставлення рахунків за кредитною карткою).\n",
    "\n",
    "* `revol.util`: коефіцієнт використання кридитної лінії позичальника (сума використаної кредитної лінії відносно загальної кількості доступних кредитів).\n",
    "\n",
    "* `inq.last.6mths`: кількість запитів позичальників з боку кредиторів за останні 6 місяців.\n",
    "\n",
    "* `delinq.2yrs`: кількість разів, протягом яких позичальник прострочував платежі протягом останніх 2 років понад 30 днів.\n",
    "\n",
    "* `pub.rec`: кількість публічних записів (заяви про банкрутство, податкова застава або рішення)."
   ]
  },
  {
   "cell_type": "markdown",
   "metadata": {},
   "source": [
    "Алгоритм виконання та проміжні завдання:\n",
    "1. Відкрийте файл та виведіть описову статистику\n",
    "\n",
    "2. Створіть дві гістограми по полю fico (перша для значень not.fully.paid=0, друга = 1). Гістограми накладіть одна на одну.\n",
    "\n",
    "3. Відобразіть тенденцію між оцінкою fico та int.rate. Використайте jointplot\n",
    "\n",
    "4. Побудуйте графік lmplot на основі int.rate та fico. Коліром розідліть по полю credit.policy. Розбийте по значеннях цільової функції\n",
    "\n",
    "5. purpose є категорієї, тому варто перетворити за допомогою pd.get_dummies\n",
    "\n",
    "6. Розбийте датасет на тестві та трейнові дані\n",
    "\n",
    "7. Використайте для задачі класифікації такі моделі: дерево рішень, логістична регресія, random forest, XGBoost\n",
    "\n",
    "8. Для кожної з моделей виведіть матрицю, основні метрики\n",
    "\n",
    "8. *Використейте бібіотеку dtreeviz для візуалізації (там, де актуально)\n",
    "\n",
    "9. Використайте ансамбель voting для всіх моделей\n",
    "\n",
    "10. Порівняйте результати моделей та зробіть висновки"
   ]
  },
  {
   "cell_type": "code",
   "execution_count": 36,
   "metadata": {},
   "outputs": [],
   "source": [
    "import pandas as pd\n",
    "import numpy as np\n",
    "import matplotlib.pyplot as plt\n",
    "import seaborn as sns\n",
    "%matplotlib inline\n",
    "import pickle\n",
    "from sklearn.metrics import classification_report, confusion_matrix\n",
    "from dtreeviz.trees import *\n",
    "import graphviz\n",
    "import xgboost as xgb\n",
    "from sklearn.ensemble import RandomForestClassifier, VotingClassifier\n",
    "from sklearn import metrics"
   ]
  },
  {
   "cell_type": "code",
   "execution_count": 2,
   "metadata": {},
   "outputs": [
    {
     "data": {
      "text/html": [
       "<div>\n",
       "<style scoped>\n",
       "    .dataframe tbody tr th:only-of-type {\n",
       "        vertical-align: middle;\n",
       "    }\n",
       "\n",
       "    .dataframe tbody tr th {\n",
       "        vertical-align: top;\n",
       "    }\n",
       "\n",
       "    .dataframe thead th {\n",
       "        text-align: right;\n",
       "    }\n",
       "</style>\n",
       "<table border=\"1\" class=\"dataframe\">\n",
       "  <thead>\n",
       "    <tr style=\"text-align: right;\">\n",
       "      <th></th>\n",
       "      <th>credit.policy</th>\n",
       "      <th>int.rate</th>\n",
       "      <th>installment</th>\n",
       "      <th>log.annual.inc</th>\n",
       "      <th>dti</th>\n",
       "      <th>fico</th>\n",
       "      <th>days.with.cr.line</th>\n",
       "      <th>revol.bal</th>\n",
       "      <th>revol.util</th>\n",
       "      <th>inq.last.6mths</th>\n",
       "      <th>delinq.2yrs</th>\n",
       "      <th>pub.rec</th>\n",
       "      <th>not.fully.paid</th>\n",
       "    </tr>\n",
       "  </thead>\n",
       "  <tbody>\n",
       "    <tr>\n",
       "      <th>count</th>\n",
       "      <td>9578.000000</td>\n",
       "      <td>9578.000000</td>\n",
       "      <td>9578.000000</td>\n",
       "      <td>9578.000000</td>\n",
       "      <td>9578.000000</td>\n",
       "      <td>9578.000000</td>\n",
       "      <td>9578.000000</td>\n",
       "      <td>9.578000e+03</td>\n",
       "      <td>9578.000000</td>\n",
       "      <td>9578.000000</td>\n",
       "      <td>9578.000000</td>\n",
       "      <td>9578.000000</td>\n",
       "      <td>9578.000000</td>\n",
       "    </tr>\n",
       "    <tr>\n",
       "      <th>mean</th>\n",
       "      <td>0.804970</td>\n",
       "      <td>0.122640</td>\n",
       "      <td>319.089413</td>\n",
       "      <td>10.932117</td>\n",
       "      <td>12.606679</td>\n",
       "      <td>710.846314</td>\n",
       "      <td>4560.767197</td>\n",
       "      <td>1.691396e+04</td>\n",
       "      <td>46.799236</td>\n",
       "      <td>1.577469</td>\n",
       "      <td>0.163708</td>\n",
       "      <td>0.062122</td>\n",
       "      <td>0.160054</td>\n",
       "    </tr>\n",
       "    <tr>\n",
       "      <th>std</th>\n",
       "      <td>0.396245</td>\n",
       "      <td>0.026847</td>\n",
       "      <td>207.071301</td>\n",
       "      <td>0.614813</td>\n",
       "      <td>6.883970</td>\n",
       "      <td>37.970537</td>\n",
       "      <td>2496.930377</td>\n",
       "      <td>3.375619e+04</td>\n",
       "      <td>29.014417</td>\n",
       "      <td>2.200245</td>\n",
       "      <td>0.546215</td>\n",
       "      <td>0.262126</td>\n",
       "      <td>0.366676</td>\n",
       "    </tr>\n",
       "    <tr>\n",
       "      <th>min</th>\n",
       "      <td>0.000000</td>\n",
       "      <td>0.060000</td>\n",
       "      <td>15.670000</td>\n",
       "      <td>7.547502</td>\n",
       "      <td>0.000000</td>\n",
       "      <td>612.000000</td>\n",
       "      <td>178.958333</td>\n",
       "      <td>0.000000e+00</td>\n",
       "      <td>0.000000</td>\n",
       "      <td>0.000000</td>\n",
       "      <td>0.000000</td>\n",
       "      <td>0.000000</td>\n",
       "      <td>0.000000</td>\n",
       "    </tr>\n",
       "    <tr>\n",
       "      <th>25%</th>\n",
       "      <td>1.000000</td>\n",
       "      <td>0.103900</td>\n",
       "      <td>163.770000</td>\n",
       "      <td>10.558414</td>\n",
       "      <td>7.212500</td>\n",
       "      <td>682.000000</td>\n",
       "      <td>2820.000000</td>\n",
       "      <td>3.187000e+03</td>\n",
       "      <td>22.600000</td>\n",
       "      <td>0.000000</td>\n",
       "      <td>0.000000</td>\n",
       "      <td>0.000000</td>\n",
       "      <td>0.000000</td>\n",
       "    </tr>\n",
       "    <tr>\n",
       "      <th>50%</th>\n",
       "      <td>1.000000</td>\n",
       "      <td>0.122100</td>\n",
       "      <td>268.950000</td>\n",
       "      <td>10.928884</td>\n",
       "      <td>12.665000</td>\n",
       "      <td>707.000000</td>\n",
       "      <td>4139.958333</td>\n",
       "      <td>8.596000e+03</td>\n",
       "      <td>46.300000</td>\n",
       "      <td>1.000000</td>\n",
       "      <td>0.000000</td>\n",
       "      <td>0.000000</td>\n",
       "      <td>0.000000</td>\n",
       "    </tr>\n",
       "    <tr>\n",
       "      <th>75%</th>\n",
       "      <td>1.000000</td>\n",
       "      <td>0.140700</td>\n",
       "      <td>432.762500</td>\n",
       "      <td>11.291293</td>\n",
       "      <td>17.950000</td>\n",
       "      <td>737.000000</td>\n",
       "      <td>5730.000000</td>\n",
       "      <td>1.824950e+04</td>\n",
       "      <td>70.900000</td>\n",
       "      <td>2.000000</td>\n",
       "      <td>0.000000</td>\n",
       "      <td>0.000000</td>\n",
       "      <td>0.000000</td>\n",
       "    </tr>\n",
       "    <tr>\n",
       "      <th>max</th>\n",
       "      <td>1.000000</td>\n",
       "      <td>0.216400</td>\n",
       "      <td>940.140000</td>\n",
       "      <td>14.528354</td>\n",
       "      <td>29.960000</td>\n",
       "      <td>827.000000</td>\n",
       "      <td>17639.958330</td>\n",
       "      <td>1.207359e+06</td>\n",
       "      <td>119.000000</td>\n",
       "      <td>33.000000</td>\n",
       "      <td>13.000000</td>\n",
       "      <td>5.000000</td>\n",
       "      <td>1.000000</td>\n",
       "    </tr>\n",
       "  </tbody>\n",
       "</table>\n",
       "</div>"
      ],
      "text/plain": [
       "       credit.policy     int.rate  installment  log.annual.inc          dti  \\\n",
       "count    9578.000000  9578.000000  9578.000000     9578.000000  9578.000000   \n",
       "mean        0.804970     0.122640   319.089413       10.932117    12.606679   \n",
       "std         0.396245     0.026847   207.071301        0.614813     6.883970   \n",
       "min         0.000000     0.060000    15.670000        7.547502     0.000000   \n",
       "25%         1.000000     0.103900   163.770000       10.558414     7.212500   \n",
       "50%         1.000000     0.122100   268.950000       10.928884    12.665000   \n",
       "75%         1.000000     0.140700   432.762500       11.291293    17.950000   \n",
       "max         1.000000     0.216400   940.140000       14.528354    29.960000   \n",
       "\n",
       "              fico  days.with.cr.line     revol.bal   revol.util  \\\n",
       "count  9578.000000        9578.000000  9.578000e+03  9578.000000   \n",
       "mean    710.846314        4560.767197  1.691396e+04    46.799236   \n",
       "std      37.970537        2496.930377  3.375619e+04    29.014417   \n",
       "min     612.000000         178.958333  0.000000e+00     0.000000   \n",
       "25%     682.000000        2820.000000  3.187000e+03    22.600000   \n",
       "50%     707.000000        4139.958333  8.596000e+03    46.300000   \n",
       "75%     737.000000        5730.000000  1.824950e+04    70.900000   \n",
       "max     827.000000       17639.958330  1.207359e+06   119.000000   \n",
       "\n",
       "       inq.last.6mths  delinq.2yrs      pub.rec  not.fully.paid  \n",
       "count     9578.000000  9578.000000  9578.000000     9578.000000  \n",
       "mean         1.577469     0.163708     0.062122        0.160054  \n",
       "std          2.200245     0.546215     0.262126        0.366676  \n",
       "min          0.000000     0.000000     0.000000        0.000000  \n",
       "25%          0.000000     0.000000     0.000000        0.000000  \n",
       "50%          1.000000     0.000000     0.000000        0.000000  \n",
       "75%          2.000000     0.000000     0.000000        0.000000  \n",
       "max         33.000000    13.000000     5.000000        1.000000  "
      ]
     },
     "execution_count": 2,
     "metadata": {},
     "output_type": "execute_result"
    }
   ],
   "source": [
    "df = pd.read_csv('loan_data.csv')\n",
    "df.describe()"
   ]
  },
  {
   "cell_type": "code",
   "execution_count": 3,
   "metadata": {},
   "outputs": [],
   "source": [
    "\n",
    "notpaid=df[df[\"not.fully.paid\"]==1]\n",
    "paid=df[df[\"not.fully.paid\"]==0]\n"
   ]
  },
  {
   "cell_type": "code",
   "execution_count": 4,
   "metadata": {},
   "outputs": [
    {
     "data": {
      "image/png": "[encoded data removed]",
      "text/plain": [
       "<Figure size 432x288 with 1 Axes>"
      ]
     },
     "metadata": {
      "needs_background": "light"
     },
     "output_type": "display_data"
    }
   ],
   "source": [
    "notpaid[\"fico\"].plot.hist(bins=50,label='not paid')\n",
    "paid[\"fico\"].plot.hist(bins=50, label='paid')\n",
    "plt.legend(loc='upper right')\n",
    "plt.show()"
   ]
  },
  {
   "cell_type": "code",
   "execution_count": 5,
   "metadata": {},
   "outputs": [
    {
     "data": {
      "text/plain": [
       "<AxesSubplot:>"
      ]
     },
     "execution_count": 5,
     "metadata": {},
     "output_type": "execute_result"
    },
    {
     "data": {
      "image/png": "[encoded data removed]",
      "text/plain": [
       "<Figure size 432x288 with 2 Axes>"
      ]
     },
     "metadata": {
      "needs_background": "light"
     },
     "output_type": "display_data"
    }
   ],
   "source": [
    "cor = pd.DataFrame(df,columns=['fico','int.rate'])\n",
    "corrMatrix=cor.corr()\n",
    "sns.heatmap(corrMatrix,annot=True)"
   ]
  },
  {
   "cell_type": "code",
   "execution_count": 6,
   "metadata": {},
   "outputs": [
    {
     "data": {
      "text/plain": [
       "<seaborn.axisgrid.FacetGrid at 0x1aa43b14370>"
      ]
     },
     "execution_count": 6,
     "metadata": {},
     "output_type": "execute_result"
    },
    {
     "data": {
      "image/png": "[encoded data removed]",
      "text/plain": [
       "<Figure size 720x360 with 2 Axes>"
      ]
     },
     "metadata": {
      "needs_background": "light"
     },
     "output_type": "display_data"
    }
   ],
   "source": [
    "sns.lmplot(data=df,x='int.rate',y='fico',hue='credit.policy',col='credit.policy')"
   ]
  },
  {
   "cell_type": "code",
   "execution_count": 7,
   "metadata": {},
   "outputs": [
    {
     "data": {
      "text/html": [
       "<div>\n",
       "<style scoped>\n",
       "    .dataframe tbody tr th:only-of-type {\n",
       "        vertical-align: middle;\n",
       "    }\n",
       "\n",
       "    .dataframe tbody tr th {\n",
       "        vertical-align: top;\n",
       "    }\n",
       "\n",
       "    .dataframe thead th {\n",
       "        text-align: right;\n",
       "    }\n",
       "</style>\n",
       "<table border=\"1\" class=\"dataframe\">\n",
       "  <thead>\n",
       "    <tr style=\"text-align: right;\">\n",
       "      <th></th>\n",
       "      <th>credit.policy</th>\n",
       "      <th>int.rate</th>\n",
       "      <th>installment</th>\n",
       "      <th>log.annual.inc</th>\n",
       "      <th>dti</th>\n",
       "      <th>fico</th>\n",
       "      <th>days.with.cr.line</th>\n",
       "      <th>revol.bal</th>\n",
       "      <th>revol.util</th>\n",
       "      <th>inq.last.6mths</th>\n",
       "      <th>delinq.2yrs</th>\n",
       "      <th>pub.rec</th>\n",
       "      <th>not.fully.paid</th>\n",
       "      <th>all_other</th>\n",
       "      <th>credit_card</th>\n",
       "      <th>debt_consolidation</th>\n",
       "      <th>educational</th>\n",
       "      <th>home_improvement</th>\n",
       "      <th>major_purchase</th>\n",
       "      <th>small_business</th>\n",
       "    </tr>\n",
       "  </thead>\n",
       "  <tbody>\n",
       "    <tr>\n",
       "      <th>0</th>\n",
       "      <td>1</td>\n",
       "      <td>0.1189</td>\n",
       "      <td>829.10</td>\n",
       "      <td>11.350407</td>\n",
       "      <td>19.48</td>\n",
       "      <td>737</td>\n",
       "      <td>5639.958333</td>\n",
       "      <td>28854</td>\n",
       "      <td>52.1</td>\n",
       "      <td>0</td>\n",
       "      <td>0</td>\n",
       "      <td>0</td>\n",
       "      <td>0</td>\n",
       "      <td>0</td>\n",
       "      <td>0</td>\n",
       "      <td>1</td>\n",
       "      <td>0</td>\n",
       "      <td>0</td>\n",
       "      <td>0</td>\n",
       "      <td>0</td>\n",
       "    </tr>\n",
       "    <tr>\n",
       "      <th>1</th>\n",
       "      <td>1</td>\n",
       "      <td>0.1071</td>\n",
       "      <td>228.22</td>\n",
       "      <td>11.082143</td>\n",
       "      <td>14.29</td>\n",
       "      <td>707</td>\n",
       "      <td>2760.000000</td>\n",
       "      <td>33623</td>\n",
       "      <td>76.7</td>\n",
       "      <td>0</td>\n",
       "      <td>0</td>\n",
       "      <td>0</td>\n",
       "      <td>0</td>\n",
       "      <td>0</td>\n",
       "      <td>1</td>\n",
       "      <td>0</td>\n",
       "      <td>0</td>\n",
       "      <td>0</td>\n",
       "      <td>0</td>\n",
       "      <td>0</td>\n",
       "    </tr>\n",
       "    <tr>\n",
       "      <th>2</th>\n",
       "      <td>1</td>\n",
       "      <td>0.1357</td>\n",
       "      <td>366.86</td>\n",
       "      <td>10.373491</td>\n",
       "      <td>11.63</td>\n",
       "      <td>682</td>\n",
       "      <td>4710.000000</td>\n",
       "      <td>3511</td>\n",
       "      <td>25.6</td>\n",
       "      <td>1</td>\n",
       "      <td>0</td>\n",
       "      <td>0</td>\n",
       "      <td>0</td>\n",
       "      <td>0</td>\n",
       "      <td>0</td>\n",
       "      <td>1</td>\n",
       "      <td>0</td>\n",
       "      <td>0</td>\n",
       "      <td>0</td>\n",
       "      <td>0</td>\n",
       "    </tr>\n",
       "    <tr>\n",
       "      <th>3</th>\n",
       "      <td>1</td>\n",
       "      <td>0.1008</td>\n",
       "      <td>162.34</td>\n",
       "      <td>11.350407</td>\n",
       "      <td>8.10</td>\n",
       "      <td>712</td>\n",
       "      <td>2699.958333</td>\n",
       "      <td>33667</td>\n",
       "      <td>73.2</td>\n",
       "      <td>1</td>\n",
       "      <td>0</td>\n",
       "      <td>0</td>\n",
       "      <td>0</td>\n",
       "      <td>0</td>\n",
       "      <td>0</td>\n",
       "      <td>1</td>\n",
       "      <td>0</td>\n",
       "      <td>0</td>\n",
       "      <td>0</td>\n",
       "      <td>0</td>\n",
       "    </tr>\n",
       "    <tr>\n",
       "      <th>4</th>\n",
       "      <td>1</td>\n",
       "      <td>0.1426</td>\n",
       "      <td>102.92</td>\n",
       "      <td>11.299732</td>\n",
       "      <td>14.97</td>\n",
       "      <td>667</td>\n",
       "      <td>4066.000000</td>\n",
       "      <td>4740</td>\n",
       "      <td>39.5</td>\n",
       "      <td>0</td>\n",
       "      <td>1</td>\n",
       "      <td>0</td>\n",
       "      <td>0</td>\n",
       "      <td>0</td>\n",
       "      <td>1</td>\n",
       "      <td>0</td>\n",
       "      <td>0</td>\n",
       "      <td>0</td>\n",
       "      <td>0</td>\n",
       "      <td>0</td>\n",
       "    </tr>\n",
       "    <tr>\n",
       "      <th>...</th>\n",
       "      <td>...</td>\n",
       "      <td>...</td>\n",
       "      <td>...</td>\n",
       "      <td>...</td>\n",
       "      <td>...</td>\n",
       "      <td>...</td>\n",
       "      <td>...</td>\n",
       "      <td>...</td>\n",
       "      <td>...</td>\n",
       "      <td>...</td>\n",
       "      <td>...</td>\n",
       "      <td>...</td>\n",
       "      <td>...</td>\n",
       "      <td>...</td>\n",
       "      <td>...</td>\n",
       "      <td>...</td>\n",
       "      <td>...</td>\n",
       "      <td>...</td>\n",
       "      <td>...</td>\n",
       "      <td>...</td>\n",
       "    </tr>\n",
       "    <tr>\n",
       "      <th>9573</th>\n",
       "      <td>0</td>\n",
       "      <td>0.1461</td>\n",
       "      <td>344.76</td>\n",
       "      <td>12.180755</td>\n",
       "      <td>10.39</td>\n",
       "      <td>672</td>\n",
       "      <td>10474.000000</td>\n",
       "      <td>215372</td>\n",
       "      <td>82.1</td>\n",
       "      <td>2</td>\n",
       "      <td>0</td>\n",
       "      <td>0</td>\n",
       "      <td>1</td>\n",
       "      <td>1</td>\n",
       "      <td>0</td>\n",
       "      <td>0</td>\n",
       "      <td>0</td>\n",
       "      <td>0</td>\n",
       "      <td>0</td>\n",
       "      <td>0</td>\n",
       "    </tr>\n",
       "    <tr>\n",
       "      <th>9574</th>\n",
       "      <td>0</td>\n",
       "      <td>0.1253</td>\n",
       "      <td>257.70</td>\n",
       "      <td>11.141862</td>\n",
       "      <td>0.21</td>\n",
       "      <td>722</td>\n",
       "      <td>4380.000000</td>\n",
       "      <td>184</td>\n",
       "      <td>1.1</td>\n",
       "      <td>5</td>\n",
       "      <td>0</td>\n",
       "      <td>0</td>\n",
       "      <td>1</td>\n",
       "      <td>1</td>\n",
       "      <td>0</td>\n",
       "      <td>0</td>\n",
       "      <td>0</td>\n",
       "      <td>0</td>\n",
       "      <td>0</td>\n",
       "      <td>0</td>\n",
       "    </tr>\n",
       "    <tr>\n",
       "      <th>9575</th>\n",
       "      <td>0</td>\n",
       "      <td>0.1071</td>\n",
       "      <td>97.81</td>\n",
       "      <td>10.596635</td>\n",
       "      <td>13.09</td>\n",
       "      <td>687</td>\n",
       "      <td>3450.041667</td>\n",
       "      <td>10036</td>\n",
       "      <td>82.9</td>\n",
       "      <td>8</td>\n",
       "      <td>0</td>\n",
       "      <td>0</td>\n",
       "      <td>1</td>\n",
       "      <td>0</td>\n",
       "      <td>0</td>\n",
       "      <td>1</td>\n",
       "      <td>0</td>\n",
       "      <td>0</td>\n",
       "      <td>0</td>\n",
       "      <td>0</td>\n",
       "    </tr>\n",
       "    <tr>\n",
       "      <th>9576</th>\n",
       "      <td>0</td>\n",
       "      <td>0.1600</td>\n",
       "      <td>351.58</td>\n",
       "      <td>10.819778</td>\n",
       "      <td>19.18</td>\n",
       "      <td>692</td>\n",
       "      <td>1800.000000</td>\n",
       "      <td>0</td>\n",
       "      <td>3.2</td>\n",
       "      <td>5</td>\n",
       "      <td>0</td>\n",
       "      <td>0</td>\n",
       "      <td>1</td>\n",
       "      <td>0</td>\n",
       "      <td>0</td>\n",
       "      <td>0</td>\n",
       "      <td>0</td>\n",
       "      <td>1</td>\n",
       "      <td>0</td>\n",
       "      <td>0</td>\n",
       "    </tr>\n",
       "    <tr>\n",
       "      <th>9577</th>\n",
       "      <td>0</td>\n",
       "      <td>0.1392</td>\n",
       "      <td>853.43</td>\n",
       "      <td>11.264464</td>\n",
       "      <td>16.28</td>\n",
       "      <td>732</td>\n",
       "      <td>4740.000000</td>\n",
       "      <td>37879</td>\n",
       "      <td>57.0</td>\n",
       "      <td>6</td>\n",
       "      <td>0</td>\n",
       "      <td>0</td>\n",
       "      <td>1</td>\n",
       "      <td>0</td>\n",
       "      <td>0</td>\n",
       "      <td>1</td>\n",
       "      <td>0</td>\n",
       "      <td>0</td>\n",
       "      <td>0</td>\n",
       "      <td>0</td>\n",
       "    </tr>\n",
       "  </tbody>\n",
       "</table>\n",
       "<p>9578 rows × 20 columns</p>\n",
       "</div>"
      ],
      "text/plain": [
       "      credit.policy  int.rate  installment  log.annual.inc    dti  fico  \\\n",
       "0                 1    0.1189       829.10       11.350407  19.48   737   \n",
       "1                 1    0.1071       228.22       11.082143  14.29   707   \n",
       "2                 1    0.1357       366.86       10.373491  11.63   682   \n",
       "3                 1    0.1008       162.34       11.350407   8.10   712   \n",
       "4                 1    0.1426       102.92       11.299732  14.97   667   \n",
       "...             ...       ...          ...             ...    ...   ...   \n",
       "9573              0    0.1461       344.76       12.180755  10.39   672   \n",
       "9574              0    0.1253       257.70       11.141862   0.21   722   \n",
       "9575              0    0.1071        97.81       10.596635  13.09   687   \n",
       "9576              0    0.1600       351.58       10.819778  19.18   692   \n",
       "9577              0    0.1392       853.43       11.264464  16.28   732   \n",
       "\n",
       "      days.with.cr.line  revol.bal  revol.util  inq.last.6mths  delinq.2yrs  \\\n",
       "0           5639.958333      28854        52.1               0            0   \n",
       "1           2760.000000      33623        76.7               0            0   \n",
       "2           4710.000000       3511        25.6               1            0   \n",
       "3           2699.958333      33667        73.2               1            0   \n",
       "4           4066.000000       4740        39.5               0            1   \n",
       "...                 ...        ...         ...             ...          ...   \n",
       "9573       10474.000000     215372        82.1               2            0   \n",
       "9574        4380.000000        184         1.1               5            0   \n",
       "9575        3450.041667      10036        82.9               8            0   \n",
       "9576        1800.000000          0         3.2               5            0   \n",
       "9577        4740.000000      37879        57.0               6            0   \n",
       "\n",
       "      pub.rec  not.fully.paid  all_other  credit_card  debt_consolidation  \\\n",
       "0           0               0          0            0                   1   \n",
       "1           0               0          0            1                   0   \n",
       "2           0               0          0            0                   1   \n",
       "3           0               0          0            0                   1   \n",
       "4           0               0          0            1                   0   \n",
       "...       ...             ...        ...          ...                 ...   \n",
       "9573        0               1          1            0                   0   \n",
       "9574        0               1          1            0                   0   \n",
       "9575        0               1          0            0                   1   \n",
       "9576        0               1          0            0                   0   \n",
       "9577        0               1          0            0                   1   \n",
       "\n",
       "      educational  home_improvement  major_purchase  small_business  \n",
       "0               0                 0               0               0  \n",
       "1               0                 0               0               0  \n",
       "2               0                 0               0               0  \n",
       "3               0                 0               0               0  \n",
       "4               0                 0               0               0  \n",
       "...           ...               ...             ...             ...  \n",
       "9573            0                 0               0               0  \n",
       "9574            0                 0               0               0  \n",
       "9575            0                 0               0               0  \n",
       "9576            0                 1               0               0  \n",
       "9577            0                 0               0               0  \n",
       "\n",
       "[9578 rows x 20 columns]"
      ]
     },
     "execution_count": 7,
     "metadata": {},
     "output_type": "execute_result"
    }
   ],
   "source": [
    "new=pd.get_dummies(df['purpose'],sparse=True)\n",
    "df1=pd.concat([df,new],axis=1)\n",
    "df1=df1.drop(['purpose'],axis='columns')\n",
    "df1"
   ]
  },
  {
   "cell_type": "code",
   "execution_count": 8,
   "metadata": {},
   "outputs": [],
   "source": [
    "X = df1[['int.rate','installment','log.annual.inc','dti','fico','days.with.cr.line','revol.bal','revol.util','inq.last.6mths','delinq.2yrs','pub.rec','not.fully.paid','all_other','credit_card','debt_consolidation','educational','home_improvement','major_purchase','small_business']]\n",
    "y = df1['credit.policy']"
   ]
  },
  {
   "cell_type": "code",
   "execution_count": 9,
   "metadata": {},
   "outputs": [],
   "source": [
    "from sklearn.model_selection import train_test_split\n",
    "X_train, X_test, y_train, y_test = train_test_split(X, y, test_size=0.2)"
   ]
  },
  {
   "cell_type": "code",
   "execution_count": 10,
   "metadata": {},
   "outputs": [
    {
     "name": "stderr",
     "output_type": "stream",
     "text": [
      "C:\\Users\\Acer\\anaconda3\\lib\\site-packages\\sklearn\\utils\\validation.py:508: UserWarning: pandas.DataFrame with sparse columns found.It will be converted to a dense numpy array.\n",
      "  warnings.warn(\n"
     ]
    },
    {
     "data": {
      "text/plain": [
       "LogisticRegression(solver='liblinear')"
      ]
     },
     "execution_count": 10,
     "metadata": {},
     "output_type": "execute_result"
    }
   ],
   "source": [
    "from sklearn.linear_model import LogisticRegression\n",
    "\n",
    "lr = LogisticRegression(solver='liblinear')\n",
    "lr.fit(X_train,y_train)"
   ]
  },
  {
   "cell_type": "code",
   "execution_count": 30,
   "metadata": {},
   "outputs": [
    {
     "name": "stdout",
     "output_type": "stream",
     "text": [
      "train data 0.8988514748107543\n",
      "test data 0.8914405010438413\n",
      "Confusion matrix  [[ 220  177]\n",
      " [  31 1488]]\n",
      "Logistic coefficients [[-1.13571002e-01  2.34791116e-03 -4.97574196e-01 -2.41817531e-02\n",
      "   1.23061077e-02  2.60291591e-04 -2.72359068e-05 -6.29657666e-03\n",
      "  -8.94093274e-01 -5.39626833e-01 -1.27067769e-01 -4.86884695e-01\n",
      "  -2.32634790e-01 -9.01844150e-02 -5.09323394e-02 -1.04215779e-01\n",
      "   1.37783999e-01  2.22504408e-02  7.77585517e-02]]\n",
      "Accuracy: 0.8914405010438413\n"
     ]
    },
    {
     "name": "stderr",
     "output_type": "stream",
     "text": [
      "C:\\Users\\Acer\\anaconda3\\lib\\site-packages\\sklearn\\utils\\validation.py:508: UserWarning: pandas.DataFrame with sparse columns found.It will be converted to a dense numpy array.\n",
      "  warnings.warn(\n",
      "C:\\Users\\Acer\\anaconda3\\lib\\site-packages\\sklearn\\utils\\validation.py:508: UserWarning: pandas.DataFrame with sparse columns found.It will be converted to a dense numpy array.\n",
      "  warnings.warn(\n",
      "C:\\Users\\Acer\\anaconda3\\lib\\site-packages\\sklearn\\utils\\validation.py:508: UserWarning: pandas.DataFrame with sparse columns found.It will be converted to a dense numpy array.\n",
      "  warnings.warn(\n",
      "C:\\Users\\Acer\\anaconda3\\lib\\site-packages\\sklearn\\utils\\validation.py:508: UserWarning: pandas.DataFrame with sparse columns found.It will be converted to a dense numpy array.\n",
      "  warnings.warn(\n"
     ]
    }
   ],
   "source": [
    "print(\"train data\",lr.score(X_train,y_train))\n",
    "print(\"test data\",lr.score(X_test,y_test))\n",
    "print(\"Confusion matrix \",confusion_matrix(y_test,lr.predict(X_test)))\n",
    "print(\"Logistic coefficients\",lr.coef_)\n",
    "y_pred=lr.predict(X_test)\n",
    "print(\"Accuracy:\",metrics.accuracy_score(y_test, y_pred))"
   ]
  },
  {
   "cell_type": "code",
   "execution_count": 20,
   "metadata": {},
   "outputs": [
    {
     "name": "stderr",
     "output_type": "stream",
     "text": [
      "C:\\Users\\Acer\\anaconda3\\lib\\site-packages\\sklearn\\utils\\validation.py:508: UserWarning: pandas.DataFrame with sparse columns found.It will be converted to a dense numpy array.\n",
      "  warnings.warn(\n"
     ]
    }
   ],
   "source": [
    "from sklearn.tree import DecisionTreeClassifier\n",
    "# for i in range(1,20):\n",
    "clf = DecisionTreeClassifier(max_depth=15)\n",
    "clf=clf.fit(X_train,y_train)\n",
    "#     print(f'qty_depth = {i} Score = {clf.score(X_train,y_train)}')"
   ]
  },
  {
   "cell_type": "code",
   "execution_count": 31,
   "metadata": {
    "scrolled": true
   },
   "outputs": [
    {
     "name": "stdout",
     "output_type": "stream",
     "text": [
      "train data 0.9997389715478987\n",
      "test data 0.9906054279749478\n",
      "Confusion matrix  [[ 384   13]\n",
      " [   5 1514]]\n",
      "Accuracy: 0.9906054279749478\n"
     ]
    },
    {
     "name": "stderr",
     "output_type": "stream",
     "text": [
      "C:\\Users\\Acer\\anaconda3\\lib\\site-packages\\sklearn\\utils\\validation.py:508: UserWarning: pandas.DataFrame with sparse columns found.It will be converted to a dense numpy array.\n",
      "  warnings.warn(\n",
      "C:\\Users\\Acer\\anaconda3\\lib\\site-packages\\sklearn\\utils\\validation.py:508: UserWarning: pandas.DataFrame with sparse columns found.It will be converted to a dense numpy array.\n",
      "  warnings.warn(\n",
      "C:\\Users\\Acer\\anaconda3\\lib\\site-packages\\sklearn\\utils\\validation.py:508: UserWarning: pandas.DataFrame with sparse columns found.It will be converted to a dense numpy array.\n",
      "  warnings.warn(\n",
      "C:\\Users\\Acer\\anaconda3\\lib\\site-packages\\sklearn\\utils\\validation.py:508: UserWarning: pandas.DataFrame with sparse columns found.It will be converted to a dense numpy array.\n",
      "  warnings.warn(\n"
     ]
    }
   ],
   "source": [
    "print(\"train data\",clf.score(X_train,y_train))\n",
    "print(\"test data\",clf.score(X_test,y_test))\n",
    "print(\"Confusion matrix \",confusion_matrix(y_test,clf.predict(X_test)))\n",
    "y_pred=clf.predict(X_test)\n",
    "print(\"Accuracy:\",metrics.accuracy_score(y_test, y_pred))"
   ]
  },
  {
   "cell_type": "code",
   "execution_count": 21,
   "metadata": {},
   "outputs": [
    {
     "data": {
      "text/plain": [
       "[Text(281.6965957856514, 210.645, 'inq.last.6mths <= 3.5\\ngini = 0.31\\nsamples = 7662\\nvalue = [1471, 6191]'),\n",
       " Text(242.73967044454224, 197.055, 'fico <= 659.5\\ngini = 0.169\\nsamples = 6676\\nvalue = [623, 6053]'),\n",
       " Text(227.77120378521127, 183.465, 'fico <= 634.5\\ngini = 0.014\\nsamples = 281\\nvalue = [279, 2]'),\n",
       " Text(223.0557108274648, 169.875, 'days.with.cr.line <= 1034.5\\ngini = 0.444\\nsamples = 6\\nvalue = [4, 2]'),\n",
       " Text(218.34021786971832, 156.285, 'gini = 0.0\\nsamples = 4\\nvalue = [4, 0]'),\n",
       " Text(227.77120378521127, 156.285, 'gini = 0.0\\nsamples = 2\\nvalue = [0, 2]'),\n",
       " Text(232.48669674295775, 169.875, 'gini = 0.0\\nsamples = 275\\nvalue = [275, 0]'),\n",
       " Text(257.70813710387324, 183.465, 'days.with.cr.line <= 1109.5\\ngini = 0.102\\nsamples = 6395\\nvalue = [344, 6051]'),\n",
       " Text(252.99264414612676, 169.875, 'gini = 0.0\\nsamples = 130\\nvalue = [130, 0]'),\n",
       " Text(262.4236300616197, 169.875, 'revol.bal <= 115477.0\\ngini = 0.066\\nsamples = 6265\\nvalue = [214, 6051]'),\n",
       " Text(237.20218970070422, 156.285, 'dti <= 24.995\\ngini = 0.041\\nsamples = 6160\\nvalue = [128, 6032]'),\n",
       " Text(215.0522667253521, 142.695, 'revol.util <= 99.85\\ngini = 0.022\\nsamples = 6097\\nvalue = [67, 6030]'),\n",
       " Text(184.89889964788733, 129.10500000000002, 'revol.bal <= 74020.5\\ngini = 0.019\\nsamples = 6086\\nvalue = [57, 6029]'),\n",
       " Text(138.73864436619718, 115.515, 'revol.bal <= 42359.0\\ngini = 0.013\\nsamples = 6000\\nvalue = [39, 5961]'),\n",
       " Text(86.49982394366197, 101.925, 'revol.bal <= 7.5\\ngini = 0.007\\nsamples = 5717\\nvalue = [21, 5696]'),\n",
       " Text(48.33380281690141, 88.33500000000001, 'revol.util <= 0.07\\ngini = 0.122\\nsamples = 199\\nvalue = [13, 186]'),\n",
       " Text(21.219718309859154, 74.745, 'days.with.cr.line <= 1200.021\\ngini = 0.037\\nsamples = 159\\nvalue = [3, 156]'),\n",
       " Text(9.430985915492958, 61.155, 'int.rate <= 0.082\\ngini = 0.444\\nsamples = 3\\nvalue = [1, 2]'),\n",
       " Text(4.715492957746479, 47.565, 'gini = 0.0\\nsamples = 1\\nvalue = [1, 0]'),\n",
       " Text(14.146478873239436, 47.565, 'gini = 0.0\\nsamples = 2\\nvalue = [0, 2]'),\n",
       " Text(33.00845070422535, 61.155, 'log.annual.inc <= 9.302\\ngini = 0.025\\nsamples = 156\\nvalue = [2, 154]'),\n",
       " Text(23.577464788732392, 47.565, 'fico <= 704.5\\ngini = 0.444\\nsamples = 3\\nvalue = [1, 2]'),\n",
       " Text(18.861971830985915, 33.974999999999994, 'gini = 0.0\\nsamples = 1\\nvalue = [1, 0]'),\n",
       " Text(28.292957746478873, 33.974999999999994, 'gini = 0.0\\nsamples = 2\\nvalue = [0, 2]'),\n",
       " Text(42.43943661971831, 47.565, 'fico <= 799.5\\ngini = 0.013\\nsamples = 153\\nvalue = [1, 152]'),\n",
       " Text(37.72394366197183, 33.974999999999994, 'gini = 0.0\\nsamples = 145\\nvalue = [0, 145]'),\n",
       " Text(47.154929577464785, 33.974999999999994, 'days.with.cr.line <= 3751.542\\ngini = 0.219\\nsamples = 8\\nvalue = [1, 7]'),\n",
       " Text(42.43943661971831, 20.38499999999999, 'gini = 0.0\\nsamples = 1\\nvalue = [1, 0]'),\n",
       " Text(51.87042253521127, 20.38499999999999, 'gini = 0.0\\nsamples = 7\\nvalue = [0, 7]'),\n",
       " Text(75.44788732394366, 74.745, 'int.rate <= 0.11\\ngini = 0.375\\nsamples = 40\\nvalue = [10, 30]'),\n",
       " Text(70.73239436619718, 61.155, 'revol.util <= 0.35\\ngini = 0.355\\nsamples = 13\\nvalue = [10, 3]'),\n",
       " Text(61.30140845070422, 47.565, 'log.annual.inc <= 9.044\\ngini = 0.444\\nsamples = 3\\nvalue = [1, 2]'),\n",
       " Text(56.585915492957746, 33.974999999999994, 'gini = 0.0\\nsamples = 1\\nvalue = [1, 0]'),\n",
       " Text(66.0169014084507, 33.974999999999994, 'gini = 0.0\\nsamples = 2\\nvalue = [0, 2]'),\n",
       " Text(80.16338028169014, 47.565, 'major_purchase <= 0.5\\ngini = 0.18\\nsamples = 10\\nvalue = [9, 1]'),\n",
       " Text(75.44788732394366, 33.974999999999994, 'gini = 0.0\\nsamples = 9\\nvalue = [9, 0]'),\n",
       " Text(84.87887323943661, 33.974999999999994, 'gini = 0.0\\nsamples = 1\\nvalue = [0, 1]'),\n",
       " Text(80.16338028169014, 61.155, 'gini = 0.0\\nsamples = 27\\nvalue = [0, 27]'),\n",
       " Text(124.66584507042253, 88.33500000000001, 'days.with.cr.line <= 1117.5\\ngini = 0.003\\nsamples = 5518\\nvalue = [8, 5510]'),\n",
       " Text(109.63521126760563, 74.745, 'days.with.cr.line <= 1113.5\\ngini = 0.18\\nsamples = 10\\nvalue = [1, 9]'),\n",
       " Text(104.91971830985915, 61.155, 'gini = 0.0\\nsamples = 9\\nvalue = [0, 9]'),\n",
       " Text(114.35070422535212, 61.155, 'gini = 0.0\\nsamples = 1\\nvalue = [1, 0]'),\n",
       " Text(139.69647887323944, 74.745, 'revol.bal <= 35400.5\\ngini = 0.003\\nsamples = 5508\\nvalue = [7, 5501]'),\n",
       " Text(123.78169014084507, 61.155, 'revol.util <= 99.05\\ngini = 0.001\\nsamples = 5380\\nvalue = [4, 5376]'),\n",
       " Text(106.09859154929578, 47.565, 'int.rate <= 0.178\\ngini = 0.001\\nsamples = 5348\\nvalue = [3, 5345]'),\n",
       " Text(94.30985915492957, 33.974999999999994, 'revol.util <= 95.95\\ngini = 0.001\\nsamples = 5293\\nvalue = [2, 5291]'),\n",
       " Text(84.87887323943661, 20.38499999999999, 'log.annual.inc <= 9.955\\ngini = 0.0\\nsamples = 5191\\nvalue = [1, 5190]'),\n",
       " Text(80.16338028169014, 6.7949999999999875, 'gini = 0.008\\nsamples = 237\\nvalue = [1, 236]'),\n",
       " Text(89.59436619718309, 6.7949999999999875, 'gini = 0.0\\nsamples = 4954\\nvalue = [0, 4954]'),\n",
       " Text(103.74084507042254, 20.38499999999999, 'int.rate <= 0.099\\ngini = 0.019\\nsamples = 102\\nvalue = [1, 101]'),\n",
       " Text(99.02535211267606, 6.7949999999999875, 'gini = 0.444\\nsamples = 3\\nvalue = [1, 2]'),\n",
       " Text(108.45633802816901, 6.7949999999999875, 'gini = 0.0\\nsamples = 99\\nvalue = [0, 99]'),\n",
       " Text(117.88732394366197, 33.974999999999994, 'revol.bal <= 30254.0\\ngini = 0.036\\nsamples = 55\\nvalue = [1, 54]'),\n",
       " Text(113.17183098591549, 20.38499999999999, 'gini = 0.0\\nsamples = 54\\nvalue = [0, 54]'),\n",
       " Text(122.60281690140845, 20.38499999999999, 'gini = 0.0\\nsamples = 1\\nvalue = [1, 0]'),\n",
       " Text(141.46478873239437, 47.565, 'int.rate <= 0.139\\ngini = 0.061\\nsamples = 32\\nvalue = [1, 31]'),\n",
       " Text(136.7492957746479, 33.974999999999994, 'not.fully.paid <= 0.5\\ngini = 0.5\\nsamples = 2\\nvalue = [1, 1]'),\n",
       " Text(132.0338028169014, 20.38499999999999, 'gini = 0.0\\nsamples = 1\\nvalue = [1, 0]'),\n",
       " Text(141.46478873239437, 20.38499999999999, 'gini = 0.0\\nsamples = 1\\nvalue = [0, 1]'),\n",
       " Text(146.18028169014084, 33.974999999999994, 'gini = 0.0\\nsamples = 30\\nvalue = [0, 30]'),\n",
       " Text(155.6112676056338, 61.155, 'log.annual.inc <= 10.544\\ngini = 0.046\\nsamples = 128\\nvalue = [3, 125]'),\n",
       " Text(150.89577464788732, 47.565, 'gini = 0.0\\nsamples = 3\\nvalue = [3, 0]'),\n",
       " Text(160.32676056338028, 47.565, 'gini = 0.0\\nsamples = 125\\nvalue = [0, 125]'),\n",
       " Text(190.9774647887324, 101.925, 'log.annual.inc <= 10.849\\ngini = 0.119\\nsamples = 283\\nvalue = [18, 265]'),\n",
       " Text(174.4732394366197, 88.33500000000001, 'credit_card <= 0.5\\ngini = 0.219\\nsamples = 16\\nvalue = [14, 2]'),\n",
       " Text(169.75774647887323, 74.745, 'pub.rec <= 0.5\\ngini = 0.124\\nsamples = 15\\nvalue = [14, 1]'),\n",
       " Text(165.04225352112675, 61.155, 'gini = 0.0\\nsamples = 13\\nvalue = [13, 0]'),\n",
       " Text(174.4732394366197, 61.155, 'installment <= 254.205\\ngini = 0.5\\nsamples = 2\\nvalue = [1, 1]'),\n",
       " Text(169.75774647887323, 47.565, 'gini = 0.0\\nsamples = 1\\nvalue = [1, 0]'),\n",
       " Text(179.18873239436618, 47.565, 'gini = 0.0\\nsamples = 1\\nvalue = [0, 1]'),\n",
       " Text(179.18873239436618, 74.745, 'gini = 0.0\\nsamples = 1\\nvalue = [0, 1]'),\n",
       " Text(207.48169014084507, 88.33500000000001, 'log.annual.inc <= 10.916\\ngini = 0.03\\nsamples = 267\\nvalue = [4, 263]'),\n",
       " Text(198.05070422535212, 74.745, 'fico <= 719.5\\ngini = 0.408\\nsamples = 7\\nvalue = [2, 5]'),\n",
       " Text(193.33521126760564, 61.155, 'days.with.cr.line <= 4574.979\\ngini = 0.444\\nsamples = 3\\nvalue = [2, 1]'),\n",
       " Text(188.61971830985914, 47.565, 'gini = 0.0\\nsamples = 1\\nvalue = [0, 1]'),\n",
       " Text(198.05070422535212, 47.565, 'gini = 0.0\\nsamples = 2\\nvalue = [2, 0]'),\n",
       " Text(202.7661971830986, 61.155, 'gini = 0.0\\nsamples = 4\\nvalue = [0, 4]'),\n",
       " Text(216.91267605633803, 74.745, 'log.annual.inc <= 11.105\\ngini = 0.015\\nsamples = 260\\nvalue = [2, 258]'),\n",
       " Text(212.19718309859155, 61.155, 'revol.bal <= 69805.0\\ngini = 0.153\\nsamples = 24\\nvalue = [2, 22]'),\n",
       " Text(207.48169014084507, 47.565, 'gini = 0.0\\nsamples = 22\\nvalue = [0, 22]'),\n",
       " Text(216.91267605633803, 47.565, 'gini = 0.0\\nsamples = 2\\nvalue = [2, 0]'),\n",
       " Text(221.6281690140845, 61.155, 'gini = 0.0\\nsamples = 236\\nvalue = [0, 236]'),\n",
       " Text(231.05915492957746, 115.515, 'log.annual.inc <= 11.329\\ngini = 0.331\\nsamples = 86\\nvalue = [18, 68]'),\n",
       " Text(221.6281690140845, 101.925, 'revol.util <= 34.5\\ngini = 0.332\\nsamples = 19\\nvalue = [15, 4]'),\n",
       " Text(216.91267605633803, 88.33500000000001, 'gini = 0.0\\nsamples = 4\\nvalue = [0, 4]'),\n",
       " Text(226.34366197183098, 88.33500000000001, 'gini = 0.0\\nsamples = 15\\nvalue = [15, 0]'),\n",
       " Text(240.4901408450704, 101.925, 'revol.bal <= 105421.0\\ngini = 0.086\\nsamples = 67\\nvalue = [3, 64]'),\n",
       " Text(235.77464788732394, 88.33500000000001, 'gini = 0.0\\nsamples = 57\\nvalue = [0, 57]'),\n",
       " Text(245.2056338028169, 88.33500000000001, 'log.annual.inc <= 11.652\\ngini = 0.42\\nsamples = 10\\nvalue = [3, 7]'),\n",
       " Text(240.4901408450704, 74.745, 'gini = 0.0\\nsamples = 3\\nvalue = [3, 0]'),\n",
       " Text(249.92112676056337, 74.745, 'gini = 0.0\\nsamples = 7\\nvalue = [0, 7]'),\n",
       " Text(245.2056338028169, 129.10500000000002, 'int.rate <= 0.18\\ngini = 0.165\\nsamples = 11\\nvalue = [10, 1]'),\n",
       " Text(240.4901408450704, 115.515, 'gini = 0.0\\nsamples = 10\\nvalue = [10, 0]'),\n",
       " Text(249.92112676056337, 115.515, 'gini = 0.0\\nsamples = 1\\nvalue = [0, 1]'),\n",
       " Text(259.3521126760563, 142.695, 'revol.util <= 9.65\\ngini = 0.061\\nsamples = 63\\nvalue = [61, 2]'),\n",
       " Text(254.63661971830984, 129.10500000000002, 'gini = 0.0\\nsamples = 2\\nvalue = [0, 2]'),\n",
       " Text(264.0676056338028, 129.10500000000002, 'gini = 0.0\\nsamples = 61\\nvalue = [61, 0]'),\n",
       " Text(287.6450704225352, 156.285, 'revol.bal <= 149674.5\\ngini = 0.296\\nsamples = 105\\nvalue = [86, 19]'),\n",
       " Text(282.92957746478874, 142.695, 'log.annual.inc <= 11.932\\ngini = 0.485\\nsamples = 46\\nvalue = [27, 19]'),\n",
       " Text(273.4985915492958, 129.10500000000002, 'fico <= 742.0\\ngini = 0.271\\nsamples = 31\\nvalue = [26, 5]'),\n",
       " Text(268.7830985915493, 115.515, 'log.annual.inc <= 11.802\\ngini = 0.071\\nsamples = 27\\nvalue = [26, 1]'),\n",
       " Text(264.0676056338028, 101.925, 'gini = 0.0\\nsamples = 25\\nvalue = [25, 0]'),\n",
       " Text(273.4985915492958, 101.925, 'not.fully.paid <= 0.5\\ngini = 0.5\\nsamples = 2\\nvalue = [1, 1]'),\n",
       " Text(268.7830985915493, 88.33500000000001, 'gini = 0.0\\nsamples = 1\\nvalue = [0, 1]'),\n",
       " Text(278.21408450704223, 88.33500000000001, 'gini = 0.0\\nsamples = 1\\nvalue = [1, 0]'),\n",
       " Text(278.21408450704223, 115.515, 'gini = 0.0\\nsamples = 4\\nvalue = [0, 4]'),\n",
       " Text(292.3605633802817, 129.10500000000002, 'dti <= 22.19\\ngini = 0.124\\nsamples = 15\\nvalue = [1, 14]'),\n",
       " Text(287.6450704225352, 115.515, 'gini = 0.0\\nsamples = 14\\nvalue = [0, 14]'),\n",
       " Text(297.07605633802814, 115.515, 'gini = 0.0\\nsamples = 1\\nvalue = [1, 0]'),\n",
       " Text(292.3605633802817, 142.695, 'gini = 0.0\\nsamples = 59\\nvalue = [59, 0]'),\n",
       " Text(320.65352112676055, 197.055, 'fico <= 739.5\\ngini = 0.241\\nsamples = 986\\nvalue = [848, 138]'),\n",
       " Text(315.9380281690141, 183.465, 'gini = 0.0\\nsamples = 833\\nvalue = [833, 0]'),\n",
       " Text(325.36901408450706, 183.465, 'inq.last.6mths <= 8.5\\ngini = 0.177\\nsamples = 153\\nvalue = [15, 138]'),\n",
       " Text(320.65352112676055, 169.875, 'revol.bal <= 169491.0\\ngini = 0.115\\nsamples = 147\\nvalue = [9, 138]'),\n",
       " Text(315.9380281690141, 156.285, 'revol.bal <= 2.5\\ngini = 0.08\\nsamples = 144\\nvalue = [6, 138]'),\n",
       " Text(306.50704225352115, 142.695, 'revol.util <= 2.5\\ngini = 0.48\\nsamples = 10\\nvalue = [4, 6]'),\n",
       " Text(301.79154929577464, 129.10500000000002, 'gini = 0.0\\nsamples = 6\\nvalue = [0, 6]'),\n",
       " Text(311.2225352112676, 129.10500000000002, 'gini = 0.0\\nsamples = 4\\nvalue = [4, 0]'),\n",
       " Text(325.36901408450706, 142.695, 'dti <= 25.985\\ngini = 0.029\\nsamples = 134\\nvalue = [2, 132]'),\n",
       " Text(320.65352112676055, 129.10500000000002, 'int.rate <= 0.075\\ngini = 0.015\\nsamples = 133\\nvalue = [1, 132]'),\n",
       " Text(315.9380281690141, 115.515, 'log.annual.inc <= 10.282\\ngini = 0.32\\nsamples = 5\\nvalue = [1, 4]'),\n",
       " Text(311.2225352112676, 101.925, 'gini = 0.0\\nsamples = 1\\nvalue = [1, 0]'),\n",
       " Text(320.65352112676055, 101.925, 'gini = 0.0\\nsamples = 4\\nvalue = [0, 4]'),\n",
       " Text(325.36901408450706, 115.515, 'gini = 0.0\\nsamples = 128\\nvalue = [0, 128]'),\n",
       " Text(330.0845070422535, 129.10500000000002, 'gini = 0.0\\nsamples = 1\\nvalue = [1, 0]'),\n",
       " Text(325.36901408450706, 156.285, 'gini = 0.0\\nsamples = 3\\nvalue = [3, 0]'),\n",
       " Text(330.0845070422535, 169.875, 'gini = 0.0\\nsamples = 6\\nvalue = [6, 0]')]"
      ]
     },
     "execution_count": 21,
     "metadata": {},
     "output_type": "execute_result"
    },
    {
     "data": {
      "image/png": "[encoded data removed]",
      "text/plain": [
       "<Figure size 432x288 with 1 Axes>"
      ]
     },
     "metadata": {
      "needs_background": "light"
     },
     "output_type": "display_data"
    }
   ],
   "source": [
    "# viz = dtreeviz(clf, \n",
    "#                x_data=X_train,\n",
    "#                y_data=y_train,\n",
    "#                target_name='credit.policy',\n",
    "#                feature_names=('int.rate','installment','log.annual.inc','dti','fico','days.with.cr.line','revol.bal','revol.util','inq.last.6mths','delinq.2yrs','pub.rec','not.fully.paid','all_other','credit_card','debt_consolidation','educational','home_improvement','major_purchase','small_business'), \n",
    "#                class_names=['0','1'], \n",
    "#                title=\"Decision Tree - Iris data set\")\n",
    "# viz\n",
    "tree.plot_tree(clf, filled=True, feature_names=['int.rate','installment','log.annual.inc','dti','fico','days.with.cr.line','revol.bal','revol.util','inq.last.6mths','delinq.2yrs','pub.rec','not.fully.paid','all_other','credit_card','debt_consolidation','educational','home_improvement','major_purchase','small_business'], rounded=True)"
   ]
  },
  {
   "cell_type": "code",
   "execution_count": 24,
   "metadata": {},
   "outputs": [
    {
     "name": "stderr",
     "output_type": "stream",
     "text": [
      "C:\\Users\\Acer\\anaconda3\\lib\\site-packages\\xgboost\\sklearn.py:1146: UserWarning: The use of label encoder in XGBClassifier is deprecated and will be removed in a future release. To remove this warning, do the following: 1) Pass option use_label_encoder=False when constructing XGBClassifier object; and 2) Encode your labels (y) as integers starting with 0, i.e. 0, 1, 2, ..., [num_class - 1].\n",
      "  warnings.warn(label_encoder_deprecation_msg, UserWarning)\n"
     ]
    },
    {
     "name": "stdout",
     "output_type": "stream",
     "text": [
      "[14:29:41] WARNING: C:/Users/Administrator/workspace/xgboost-win64_release_1.4.0/src/learner.cc:1095: Starting in XGBoost 1.3.0, the default evaluation metric used with the objective 'binary:logistic' was changed from 'error' to 'logloss'. Explicitly set eval_metric if you'd like to restore the old behavior.\n"
     ]
    },
    {
     "data": {
      "text/plain": [
       "XGBClassifier(base_score=0.5, booster='gbtree', colsample_bylevel=1,\n",
       "              colsample_bynode=1, colsample_bytree=1, gamma=0, gpu_id=-1,\n",
       "              importance_type='gain', interaction_constraints='',\n",
       "              learning_rate=0.300000012, max_delta_step=0, max_depth=6,\n",
       "              min_child_weight=1, missing=nan, monotone_constraints='()',\n",
       "              n_estimators=100, n_jobs=8, num_parallel_tree=1, random_state=0,\n",
       "              reg_alpha=0, reg_lambda=1, scale_pos_weight=1, subsample=1,\n",
       "              tree_method='exact', validate_parameters=1, verbosity=None)"
      ]
     },
     "execution_count": 24,
     "metadata": {},
     "output_type": "execute_result"
    }
   ],
   "source": [
    "xgboost_model = xgb.XGBClassifier(n_estimators=100)\n",
    "xgboost_model.fit(X_train, y_train)"
   ]
  },
  {
   "cell_type": "code",
   "execution_count": 32,
   "metadata": {},
   "outputs": [
    {
     "name": "stdout",
     "output_type": "stream",
     "text": [
      "train data 1.0\n",
      "test data 0.9916492693110647\n",
      "Confusion matrix  [[ 385   12]\n",
      " [   4 1515]]\n",
      "Accuracy: 0.9916492693110647\n"
     ]
    }
   ],
   "source": [
    "print(\"train data\",xgboost_model.score(X_train,y_train))\n",
    "print(\"test data\",xgboost_model.score(X_test,y_test))\n",
    "print(\"Confusion matrix \",confusion_matrix(y_test,xgboost_model.predict(X_test)))\n",
    "y_pred=xgboost_model.predict(X_test)\n",
    "print(\"Accuracy:\",metrics.accuracy_score(y_test, y_pred))"
   ]
  },
  {
   "cell_type": "code",
   "execution_count": 33,
   "metadata": {},
   "outputs": [
    {
     "name": "stderr",
     "output_type": "stream",
     "text": [
      "C:\\Users\\Acer\\anaconda3\\lib\\site-packages\\sklearn\\utils\\validation.py:508: UserWarning: pandas.DataFrame with sparse columns found.It will be converted to a dense numpy array.\n",
      "  warnings.warn(\n"
     ]
    },
    {
     "data": {
      "text/plain": [
       "RandomForestClassifier()"
      ]
     },
     "execution_count": 33,
     "metadata": {},
     "output_type": "execute_result"
    }
   ],
   "source": [
    "rand = RandomForestClassifier(n_estimators=100)\n",
    "rand.fit(X_train, y_train)"
   ]
  },
  {
   "cell_type": "code",
   "execution_count": 34,
   "metadata": {},
   "outputs": [
    {
     "name": "stdout",
     "output_type": "stream",
     "text": [
      "train data 1.0\n",
      "test data 0.9864300626304802\n",
      "Confusion matrix  [[ 373   24]\n",
      " [   2 1517]]\n",
      "Accuracy: 0.9864300626304802\n"
     ]
    },
    {
     "name": "stderr",
     "output_type": "stream",
     "text": [
      "C:\\Users\\Acer\\anaconda3\\lib\\site-packages\\sklearn\\utils\\validation.py:508: UserWarning: pandas.DataFrame with sparse columns found.It will be converted to a dense numpy array.\n",
      "  warnings.warn(\n",
      "C:\\Users\\Acer\\anaconda3\\lib\\site-packages\\sklearn\\utils\\validation.py:508: UserWarning: pandas.DataFrame with sparse columns found.It will be converted to a dense numpy array.\n",
      "  warnings.warn(\n",
      "C:\\Users\\Acer\\anaconda3\\lib\\site-packages\\sklearn\\utils\\validation.py:508: UserWarning: pandas.DataFrame with sparse columns found.It will be converted to a dense numpy array.\n",
      "  warnings.warn(\n",
      "C:\\Users\\Acer\\anaconda3\\lib\\site-packages\\sklearn\\utils\\validation.py:508: UserWarning: pandas.DataFrame with sparse columns found.It will be converted to a dense numpy array.\n",
      "  warnings.warn(\n"
     ]
    }
   ],
   "source": [
    "print(\"train data\",rand.score(X_train,y_train))\n",
    "print(\"test data\",rand.score(X_test,y_test))\n",
    "print(\"Confusion matrix \",confusion_matrix(y_test,rand.predict(X_test)))\n",
    "y_pred=rand.predict(X_test)\n",
    "print(\"Accuracy:\",metrics.accuracy_score(y_test, y_pred))"
   ]
  },
  {
   "cell_type": "code",
   "execution_count": 38,
   "metadata": {},
   "outputs": [],
   "source": [
    "vot_clf=VotingClassifier(estimators=[('lr',lr),('rand',rand),('xgboost_model',xgboost_model),('clf',clf)],voting='soft')"
   ]
  },
  {
   "cell_type": "code",
   "execution_count": 39,
   "metadata": {},
   "outputs": [
    {
     "name": "stderr",
     "output_type": "stream",
     "text": [
      "C:\\Users\\Acer\\anaconda3\\lib\\site-packages\\sklearn\\utils\\validation.py:508: UserWarning: pandas.DataFrame with sparse columns found.It will be converted to a dense numpy array.\n",
      "  warnings.warn(\n",
      "C:\\Users\\Acer\\anaconda3\\lib\\site-packages\\sklearn\\utils\\validation.py:508: UserWarning: pandas.DataFrame with sparse columns found.It will be converted to a dense numpy array.\n",
      "  warnings.warn(\n",
      "C:\\Users\\Acer\\anaconda3\\lib\\site-packages\\xgboost\\sklearn.py:1146: UserWarning: The use of label encoder in XGBClassifier is deprecated and will be removed in a future release. To remove this warning, do the following: 1) Pass option use_label_encoder=False when constructing XGBClassifier object; and 2) Encode your labels (y) as integers starting with 0, i.e. 0, 1, 2, ..., [num_class - 1].\n",
      "  warnings.warn(label_encoder_deprecation_msg, UserWarning)\n"
     ]
    },
    {
     "name": "stdout",
     "output_type": "stream",
     "text": [
      "[14:45:39] WARNING: C:/Users/Administrator/workspace/xgboost-win64_release_1.4.0/src/learner.cc:1095: Starting in XGBoost 1.3.0, the default evaluation metric used with the objective 'binary:logistic' was changed from 'error' to 'logloss'. Explicitly set eval_metric if you'd like to restore the old behavior.\n"
     ]
    },
    {
     "name": "stderr",
     "output_type": "stream",
     "text": [
      "C:\\Users\\Acer\\anaconda3\\lib\\site-packages\\sklearn\\utils\\validation.py:508: UserWarning: pandas.DataFrame with sparse columns found.It will be converted to a dense numpy array.\n",
      "  warnings.warn(\n"
     ]
    },
    {
     "data": {
      "text/plain": [
       "VotingClassifier(estimators=[('lr', LogisticRegression(solver='liblinear')),\n",
       "                             ('rand', RandomForestClassifier()),\n",
       "                             ('xgboost_model',\n",
       "                              XGBClassifier(base_score=0.5, booster='gbtree',\n",
       "                                            colsample_bylevel=1,\n",
       "                                            colsample_bynode=1,\n",
       "                                            colsample_bytree=1, gamma=0,\n",
       "                                            gpu_id=-1, importance_type='gain',\n",
       "                                            interaction_constraints='',\n",
       "                                            learning_rate=0.300000012,\n",
       "                                            max_delta_step=0, max_depth=6,\n",
       "                                            min_child_weight=1, missing=nan,\n",
       "                                            monotone_constraints='()',\n",
       "                                            n_estimators=100, n_jobs=8,\n",
       "                                            num_parallel_tree=1, random_state=0,\n",
       "                                            reg_alpha=0, reg_lambda=1,\n",
       "                                            scale_pos_weight=1, subsample=1,\n",
       "                                            tree_method='exact',\n",
       "                                            validate_parameters=1,\n",
       "                                            verbosity=None)),\n",
       "                             ('clf', DecisionTreeClassifier(max_depth=15))],\n",
       "                 voting='soft')"
      ]
     },
     "execution_count": 39,
     "metadata": {},
     "output_type": "execute_result"
    }
   ],
   "source": [
    "vot_clf.fit(X_train,y_train)"
   ]
  },
  {
   "cell_type": "code",
   "execution_count": 41,
   "metadata": {},
   "outputs": [
    {
     "name": "stderr",
     "output_type": "stream",
     "text": [
      "C:\\Users\\Acer\\anaconda3\\lib\\site-packages\\sklearn\\utils\\validation.py:508: UserWarning: pandas.DataFrame with sparse columns found.It will be converted to a dense numpy array.\n",
      "  warnings.warn(\n",
      "C:\\Users\\Acer\\anaconda3\\lib\\site-packages\\sklearn\\utils\\validation.py:508: UserWarning: pandas.DataFrame with sparse columns found.It will be converted to a dense numpy array.\n",
      "  warnings.warn(\n",
      "C:\\Users\\Acer\\anaconda3\\lib\\site-packages\\sklearn\\utils\\validation.py:508: UserWarning: pandas.DataFrame with sparse columns found.It will be converted to a dense numpy array.\n",
      "  warnings.warn(\n"
     ]
    },
    {
     "data": {
      "text/plain": [
       "0.9900835073068893"
      ]
     },
     "execution_count": 41,
     "metadata": {},
     "output_type": "execute_result"
    }
   ],
   "source": [
    "pred=vot_clf.predict(X_test)\n",
    "metrics.accuracy_score(y_test,pred)"
   ]
  },
  {
   "cell_type": "code",
   "execution_count": 43,
   "metadata": {},
   "outputs": [
    {
     "name": "stderr",
     "output_type": "stream",
     "text": [
      "C:\\Users\\Acer\\anaconda3\\lib\\site-packages\\sklearn\\utils\\validation.py:508: UserWarning: pandas.DataFrame with sparse columns found.It will be converted to a dense numpy array.\n",
      "  warnings.warn(\n",
      "C:\\Users\\Acer\\anaconda3\\lib\\site-packages\\sklearn\\utils\\validation.py:508: UserWarning: pandas.DataFrame with sparse columns found.It will be converted to a dense numpy array.\n",
      "  warnings.warn(\n",
      "C:\\Users\\Acer\\anaconda3\\lib\\site-packages\\sklearn\\utils\\validation.py:508: UserWarning: pandas.DataFrame with sparse columns found.It will be converted to a dense numpy array.\n",
      "  warnings.warn(\n"
     ]
    },
    {
     "name": "stdout",
     "output_type": "stream",
     "text": [
      "LogisticRegression 0.8914405010438413\n"
     ]
    },
    {
     "name": "stderr",
     "output_type": "stream",
     "text": [
      "C:\\Users\\Acer\\anaconda3\\lib\\site-packages\\sklearn\\utils\\validation.py:508: UserWarning: pandas.DataFrame with sparse columns found.It will be converted to a dense numpy array.\n",
      "  warnings.warn(\n",
      "C:\\Users\\Acer\\anaconda3\\lib\\site-packages\\xgboost\\sklearn.py:1146: UserWarning: The use of label encoder in XGBClassifier is deprecated and will be removed in a future release. To remove this warning, do the following: 1) Pass option use_label_encoder=False when constructing XGBClassifier object; and 2) Encode your labels (y) as integers starting with 0, i.e. 0, 1, 2, ..., [num_class - 1].\n",
      "  warnings.warn(label_encoder_deprecation_msg, UserWarning)\n"
     ]
    },
    {
     "name": "stdout",
     "output_type": "stream",
     "text": [
      "RandomForestClassifier 0.9859081419624217\n",
      "[14:51:23] WARNING: C:/Users/Administrator/workspace/xgboost-win64_release_1.4.0/src/learner.cc:1095: Starting in XGBoost 1.3.0, the default evaluation metric used with the objective 'binary:logistic' was changed from 'error' to 'logloss'. Explicitly set eval_metric if you'd like to restore the old behavior.\n",
      "XGBClassifier 0.9916492693110647\n",
      "DecisionTreeClassifier 0.9895615866388309\n"
     ]
    },
    {
     "name": "stderr",
     "output_type": "stream",
     "text": [
      "C:\\Users\\Acer\\anaconda3\\lib\\site-packages\\sklearn\\utils\\validation.py:508: UserWarning: pandas.DataFrame with sparse columns found.It will be converted to a dense numpy array.\n",
      "  warnings.warn(\n",
      "C:\\Users\\Acer\\anaconda3\\lib\\site-packages\\sklearn\\utils\\validation.py:508: UserWarning: pandas.DataFrame with sparse columns found.It will be converted to a dense numpy array.\n",
      "  warnings.warn(\n",
      "C:\\Users\\Acer\\anaconda3\\lib\\site-packages\\sklearn\\utils\\validation.py:508: UserWarning: pandas.DataFrame with sparse columns found.It will be converted to a dense numpy array.\n",
      "  warnings.warn(\n",
      "C:\\Users\\Acer\\anaconda3\\lib\\site-packages\\sklearn\\utils\\validation.py:508: UserWarning: pandas.DataFrame with sparse columns found.It will be converted to a dense numpy array.\n",
      "  warnings.warn(\n",
      "C:\\Users\\Acer\\anaconda3\\lib\\site-packages\\xgboost\\sklearn.py:1146: UserWarning: The use of label encoder in XGBClassifier is deprecated and will be removed in a future release. To remove this warning, do the following: 1) Pass option use_label_encoder=False when constructing XGBClassifier object; and 2) Encode your labels (y) as integers starting with 0, i.e. 0, 1, 2, ..., [num_class - 1].\n",
      "  warnings.warn(label_encoder_deprecation_msg, UserWarning)\n"
     ]
    },
    {
     "name": "stdout",
     "output_type": "stream",
     "text": [
      "[14:51:25] WARNING: C:/Users/Administrator/workspace/xgboost-win64_release_1.4.0/src/learner.cc:1095: Starting in XGBoost 1.3.0, the default evaluation metric used with the objective 'binary:logistic' was changed from 'error' to 'logloss'. Explicitly set eval_metric if you'd like to restore the old behavior.\n",
      "VotingClassifier 0.9911273486430062\n"
     ]
    },
    {
     "name": "stderr",
     "output_type": "stream",
     "text": [
      "C:\\Users\\Acer\\anaconda3\\lib\\site-packages\\sklearn\\utils\\validation.py:508: UserWarning: pandas.DataFrame with sparse columns found.It will be converted to a dense numpy array.\n",
      "  warnings.warn(\n",
      "C:\\Users\\Acer\\anaconda3\\lib\\site-packages\\sklearn\\utils\\validation.py:508: UserWarning: pandas.DataFrame with sparse columns found.It will be converted to a dense numpy array.\n",
      "  warnings.warn(\n",
      "C:\\Users\\Acer\\anaconda3\\lib\\site-packages\\sklearn\\utils\\validation.py:508: UserWarning: pandas.DataFrame with sparse columns found.It will be converted to a dense numpy array.\n",
      "  warnings.warn(\n",
      "C:\\Users\\Acer\\anaconda3\\lib\\site-packages\\sklearn\\utils\\validation.py:508: UserWarning: pandas.DataFrame with sparse columns found.It will be converted to a dense numpy array.\n",
      "  warnings.warn(\n"
     ]
    }
   ],
   "source": [
    "for model in (lr,rand,xgboost_model,clf,vot_clf):\n",
    "    model.fit(X_train,y_train)\n",
    "    y_pred=model.predict(X_test)\n",
    "    print(model.__class__.__name__, metrics.accuracy_score(y_test,y_pred))"
   ]
  },
  {
   "cell_type": "markdown",
   "metadata": {},
   "source": [
    "XGBclassifier is the best model in terms of accuracy for this task"
   ]
  },
  {
   "cell_type": "code",
   "execution_count": null,
   "metadata": {},
   "outputs": [],
   "source": []
  },
  {
   "cell_type": "markdown",
   "metadata": {},
   "source": [
    "### Завдання 2:"
   ]
  },
  {
   "cell_type": "markdown",
   "metadata": {},
   "source": [
    "Просте завдання на обробку часових рядів."
   ]
  },
  {
   "cell_type": "markdown",
   "metadata": {},
   "source": [
    "Потрібно вивести наступну інформацію: \n",
    "1. Виведіть список унікальних міст з датасету\n",
    "2. Виведіть дату початку та кінця ведення даних\n",
    "3. Яка середня конценрація $NO_2$ для кожного дня тижня і міста (виведіть таблицю)?\n",
    "4. Яке середнє значення для кожної години (виведіть стовбчикову діаграму)?"
   ]
  },
  {
   "cell_type": "code",
   "execution_count": 44,
   "metadata": {},
   "outputs": [],
   "source": [
    "url = \"https://raw.githubusercontent.com/dm-fedorov/pandas_basic/master/%D0%B1%D1%8B%D1%81%D1%82%D1%80%D0%BE%D0%B5%20%D0%B2%D0%B2%D0%B5%D0%B4%D0%B5%D0%BD%D0%B8%D0%B5%20%D0%B2%20pandas/data/air_quality_no2_long.csv\""
   ]
  },
  {
   "cell_type": "code",
   "execution_count": 47,
   "metadata": {},
   "outputs": [],
   "source": [
    "data = pd.read_csv(url)"
   ]
  },
  {
   "cell_type": "code",
   "execution_count": 51,
   "metadata": {},
   "outputs": [
    {
     "data": {
      "text/plain": [
       "array(['Paris', 'Antwerpen', 'London'], dtype=object)"
      ]
     },
     "execution_count": 51,
     "metadata": {},
     "output_type": "execute_result"
    }
   ],
   "source": [
    "data.city.unique()"
   ]
  },
  {
   "cell_type": "code",
   "execution_count": 54,
   "metadata": {},
   "outputs": [
    {
     "name": "stdout",
     "output_type": "stream",
     "text": [
      "2019-05-07 01:00:00+00:00\n",
      "2019-06-21 00:00:00+00:00\n"
     ]
    }
   ],
   "source": [
    "print(data['date.utc'].min())\n",
    "print(data['date.utc'].max())"
   ]
  },
  {
   "cell_type": "code",
   "execution_count": 63,
   "metadata": {},
   "outputs": [],
   "source": [
    "paris=data[data['city']=='Paris']\n",
    "antwerpen=data[data['city']=='Antwerpen']\n",
    "london=data[data['city']=='London']"
   ]
  },
  {
   "cell_type": "code",
   "execution_count": 96,
   "metadata": {},
   "outputs": [],
   "source": [
    "# date_time=pd.to_datetime(data['date.utc'],format='%Y-%m-%d %H:%M:%S')\n",
    "london1=pd.to_datetime(london['date.utc'])\n",
    "antwerpen1=pd.to_datetime(antwerpen['date.utc'])\n",
    "paris1=pd.to_datetime(paris['date.utc'])"
   ]
  },
  {
   "cell_type": "code",
   "execution_count": 97,
   "metadata": {},
   "outputs": [],
   "source": [
    "ldt=london1.dt.dayofweek\n",
    "adt=antwerpen1.dt.dayofweek\n",
    "pdt=paris1.dt.dayofweek"
   ]
  },
  {
   "cell_type": "code",
   "execution_count": 99,
   "metadata": {},
   "outputs": [
    {
     "data": {
      "text/html": [
       "<div>\n",
       "<style scoped>\n",
       "    .dataframe tbody tr th:only-of-type {\n",
       "        vertical-align: middle;\n",
       "    }\n",
       "\n",
       "    .dataframe tbody tr th {\n",
       "        vertical-align: top;\n",
       "    }\n",
       "\n",
       "    .dataframe thead th {\n",
       "        text-align: right;\n",
       "    }\n",
       "</style>\n",
       "<table border=\"1\" class=\"dataframe\">\n",
       "  <thead>\n",
       "    <tr style=\"text-align: right;\">\n",
       "      <th></th>\n",
       "      <th>city</th>\n",
       "      <th>country</th>\n",
       "      <th>date.utc</th>\n",
       "      <th>location</th>\n",
       "      <th>parameter</th>\n",
       "      <th>value</th>\n",
       "      <th>unit</th>\n",
       "      <th>Day.Of.Week</th>\n",
       "    </tr>\n",
       "  </thead>\n",
       "  <tbody>\n",
       "    <tr>\n",
       "      <th>0</th>\n",
       "      <td>Paris</td>\n",
       "      <td>FR</td>\n",
       "      <td>2019-06-21 00:00:00+00:00</td>\n",
       "      <td>FR04014</td>\n",
       "      <td>no2</td>\n",
       "      <td>20.0</td>\n",
       "      <td>µg/m³</td>\n",
       "      <td>4</td>\n",
       "    </tr>\n",
       "    <tr>\n",
       "      <th>1</th>\n",
       "      <td>Paris</td>\n",
       "      <td>FR</td>\n",
       "      <td>2019-06-20 23:00:00+00:00</td>\n",
       "      <td>FR04014</td>\n",
       "      <td>no2</td>\n",
       "      <td>21.8</td>\n",
       "      <td>µg/m³</td>\n",
       "      <td>3</td>\n",
       "    </tr>\n",
       "    <tr>\n",
       "      <th>2</th>\n",
       "      <td>Paris</td>\n",
       "      <td>FR</td>\n",
       "      <td>2019-06-20 22:00:00+00:00</td>\n",
       "      <td>FR04014</td>\n",
       "      <td>no2</td>\n",
       "      <td>26.5</td>\n",
       "      <td>µg/m³</td>\n",
       "      <td>3</td>\n",
       "    </tr>\n",
       "    <tr>\n",
       "      <th>3</th>\n",
       "      <td>Paris</td>\n",
       "      <td>FR</td>\n",
       "      <td>2019-06-20 21:00:00+00:00</td>\n",
       "      <td>FR04014</td>\n",
       "      <td>no2</td>\n",
       "      <td>24.9</td>\n",
       "      <td>µg/m³</td>\n",
       "      <td>3</td>\n",
       "    </tr>\n",
       "    <tr>\n",
       "      <th>4</th>\n",
       "      <td>Paris</td>\n",
       "      <td>FR</td>\n",
       "      <td>2019-06-20 20:00:00+00:00</td>\n",
       "      <td>FR04014</td>\n",
       "      <td>no2</td>\n",
       "      <td>21.4</td>\n",
       "      <td>µg/m³</td>\n",
       "      <td>3</td>\n",
       "    </tr>\n",
       "    <tr>\n",
       "      <th>...</th>\n",
       "      <td>...</td>\n",
       "      <td>...</td>\n",
       "      <td>...</td>\n",
       "      <td>...</td>\n",
       "      <td>...</td>\n",
       "      <td>...</td>\n",
       "      <td>...</td>\n",
       "      <td>...</td>\n",
       "    </tr>\n",
       "    <tr>\n",
       "      <th>999</th>\n",
       "      <td>Paris</td>\n",
       "      <td>FR</td>\n",
       "      <td>2019-05-07 05:00:00+00:00</td>\n",
       "      <td>FR04014</td>\n",
       "      <td>no2</td>\n",
       "      <td>72.4</td>\n",
       "      <td>µg/m³</td>\n",
       "      <td>1</td>\n",
       "    </tr>\n",
       "    <tr>\n",
       "      <th>1000</th>\n",
       "      <td>Paris</td>\n",
       "      <td>FR</td>\n",
       "      <td>2019-05-07 04:00:00+00:00</td>\n",
       "      <td>FR04014</td>\n",
       "      <td>no2</td>\n",
       "      <td>61.9</td>\n",
       "      <td>µg/m³</td>\n",
       "      <td>1</td>\n",
       "    </tr>\n",
       "    <tr>\n",
       "      <th>1001</th>\n",
       "      <td>Paris</td>\n",
       "      <td>FR</td>\n",
       "      <td>2019-05-07 03:00:00+00:00</td>\n",
       "      <td>FR04014</td>\n",
       "      <td>no2</td>\n",
       "      <td>50.4</td>\n",
       "      <td>µg/m³</td>\n",
       "      <td>1</td>\n",
       "    </tr>\n",
       "    <tr>\n",
       "      <th>1002</th>\n",
       "      <td>Paris</td>\n",
       "      <td>FR</td>\n",
       "      <td>2019-05-07 02:00:00+00:00</td>\n",
       "      <td>FR04014</td>\n",
       "      <td>no2</td>\n",
       "      <td>27.7</td>\n",
       "      <td>µg/m³</td>\n",
       "      <td>1</td>\n",
       "    </tr>\n",
       "    <tr>\n",
       "      <th>1003</th>\n",
       "      <td>Paris</td>\n",
       "      <td>FR</td>\n",
       "      <td>2019-05-07 01:00:00+00:00</td>\n",
       "      <td>FR04014</td>\n",
       "      <td>no2</td>\n",
       "      <td>25.0</td>\n",
       "      <td>µg/m³</td>\n",
       "      <td>1</td>\n",
       "    </tr>\n",
       "  </tbody>\n",
       "</table>\n",
       "<p>1004 rows × 8 columns</p>\n",
       "</div>"
      ],
      "text/plain": [
       "       city country                   date.utc location parameter  value  \\\n",
       "0     Paris      FR  2019-06-21 00:00:00+00:00  FR04014       no2   20.0   \n",
       "1     Paris      FR  2019-06-20 23:00:00+00:00  FR04014       no2   21.8   \n",
       "2     Paris      FR  2019-06-20 22:00:00+00:00  FR04014       no2   26.5   \n",
       "3     Paris      FR  2019-06-20 21:00:00+00:00  FR04014       no2   24.9   \n",
       "4     Paris      FR  2019-06-20 20:00:00+00:00  FR04014       no2   21.4   \n",
       "...     ...     ...                        ...      ...       ...    ...   \n",
       "999   Paris      FR  2019-05-07 05:00:00+00:00  FR04014       no2   72.4   \n",
       "1000  Paris      FR  2019-05-07 04:00:00+00:00  FR04014       no2   61.9   \n",
       "1001  Paris      FR  2019-05-07 03:00:00+00:00  FR04014       no2   50.4   \n",
       "1002  Paris      FR  2019-05-07 02:00:00+00:00  FR04014       no2   27.7   \n",
       "1003  Paris      FR  2019-05-07 01:00:00+00:00  FR04014       no2   25.0   \n",
       "\n",
       "       unit  Day.Of.Week  \n",
       "0     µg/m³            4  \n",
       "1     µg/m³            3  \n",
       "2     µg/m³            3  \n",
       "3     µg/m³            3  \n",
       "4     µg/m³            3  \n",
       "...     ...          ...  \n",
       "999   µg/m³            1  \n",
       "1000  µg/m³            1  \n",
       "1001  µg/m³            1  \n",
       "1002  µg/m³            1  \n",
       "1003  µg/m³            1  \n",
       "\n",
       "[1004 rows x 8 columns]"
      ]
     },
     "execution_count": 99,
     "metadata": {},
     "output_type": "execute_result"
    }
   ],
   "source": [
    "london.insert(7,\"Day.Of.Week\",ldt)\n",
    "antwerpen.insert(7,\"Day.Of.Week\",adt)\n",
    "paris.insert(7,\"Day.Of.Week\",pdt)\n",
    "paris"
   ]
  },
  {
   "cell_type": "code",
   "execution_count": 100,
   "metadata": {},
   "outputs": [],
   "source": [
    "NO2L=london.groupby('Day.Of.Week')['value'].mean()\n",
    "NO2A=antwerpen.groupby('Day.Of.Week')['value'].mean()\n",
    "NO2P=paris.groupby('Day.Of.Week')['value'].mean()"
   ]
  },
  {
   "cell_type": "code",
   "execution_count": 101,
   "metadata": {},
   "outputs": [
    {
     "name": "stdout",
     "output_type": "stream",
     "text": [
      "Day.Of.Week\n",
      "0    23.969697\n",
      "1    24.885714\n",
      "2    23.460432\n",
      "3    24.780142\n",
      "4    26.446809\n",
      "5    24.977612\n",
      "6    24.859155\n",
      "Name: value, dtype: float64\n",
      "Day.Of.Week\n",
      "0    27.875000\n",
      "1    22.214286\n",
      "2    21.125000\n",
      "3    27.500000\n",
      "4    28.400000\n",
      "5    33.500000\n",
      "6    21.896552\n",
      "Name: value, dtype: float64\n",
      "Day.Of.Week\n",
      "0    24.856250\n",
      "1    30.999359\n",
      "2    29.165753\n",
      "3    28.600690\n",
      "4    31.617986\n",
      "5    25.266154\n",
      "6    23.274306\n",
      "Name: value, dtype: float64\n"
     ]
    }
   ],
   "source": [
    "print(NO2L)\n",
    "print(NO2A)\n",
    "print(NO2P)"
   ]
  },
  {
   "cell_type": "code",
   "execution_count": 114,
   "metadata": {
    "scrolled": false
   },
   "outputs": [
    {
     "data": {
      "text/plain": [
       "{'London': [23.96969696969697,\n",
       "  24.885714285714286,\n",
       "  23.46043165467626,\n",
       "  24.78014184397163,\n",
       "  26.4468085106383,\n",
       "  24.97761194029851,\n",
       "  24.859154929577464],\n",
       " 'Antwerpen': [27.875,\n",
       "  22.214285714285715,\n",
       "  21.125,\n",
       "  27.5,\n",
       "  28.4,\n",
       "  33.5,\n",
       "  21.896551724137932],\n",
       " 'Paris': [24.856250000000003,\n",
       "  30.999358974358973,\n",
       "  29.165753424657538,\n",
       "  28.600689655172417,\n",
       "  31.617985611510797,\n",
       "  25.26615384615384,\n",
       "  23.274305555555543]}"
      ]
     },
     "execution_count": 114,
     "metadata": {},
     "output_type": "execute_result"
    }
   ],
   "source": [
    "meanCity = {'London': [NO2L[0],NO2L[1],NO2L[2],NO2L[3],NO2L[4],NO2L[5],NO2L[6]],'Antwerpen':[NO2A[0],NO2A[1],NO2A[2],NO2A[3],NO2A[4],NO2A[5],NO2A[6]],'Paris':[NO2P[0],NO2P[1],NO2P[2],NO2P[3],NO2P[4],NO2P[5],NO2P[6]]}\n",
    "meanCity"
   ]
  },
  {
   "cell_type": "code",
   "execution_count": 157,
   "metadata": {},
   "outputs": [
    {
     "data": {
      "text/html": [
       "<div>\n",
       "<style scoped>\n",
       "    .dataframe tbody tr th:only-of-type {\n",
       "        vertical-align: middle;\n",
       "    }\n",
       "\n",
       "    .dataframe tbody tr th {\n",
       "        vertical-align: top;\n",
       "    }\n",
       "\n",
       "    .dataframe thead th {\n",
       "        text-align: right;\n",
       "    }\n",
       "</style>\n",
       "<table border=\"1\" class=\"dataframe\">\n",
       "  <thead>\n",
       "    <tr style=\"text-align: right;\">\n",
       "      <th></th>\n",
       "      <th>London</th>\n",
       "      <th>Antwerpen</th>\n",
       "      <th>Paris</th>\n",
       "    </tr>\n",
       "  </thead>\n",
       "  <tbody>\n",
       "    <tr>\n",
       "      <th>Monday</th>\n",
       "      <td>23.969697</td>\n",
       "      <td>27.875000</td>\n",
       "      <td>24.856250</td>\n",
       "    </tr>\n",
       "    <tr>\n",
       "      <th>Tuesday</th>\n",
       "      <td>24.885714</td>\n",
       "      <td>22.214286</td>\n",
       "      <td>30.999359</td>\n",
       "    </tr>\n",
       "    <tr>\n",
       "      <th>Wednesday</th>\n",
       "      <td>23.460432</td>\n",
       "      <td>21.125000</td>\n",
       "      <td>29.165753</td>\n",
       "    </tr>\n",
       "    <tr>\n",
       "      <th>Thursday</th>\n",
       "      <td>24.780142</td>\n",
       "      <td>27.500000</td>\n",
       "      <td>28.600690</td>\n",
       "    </tr>\n",
       "    <tr>\n",
       "      <th>Friday</th>\n",
       "      <td>26.446809</td>\n",
       "      <td>28.400000</td>\n",
       "      <td>31.617986</td>\n",
       "    </tr>\n",
       "    <tr>\n",
       "      <th>Saturday</th>\n",
       "      <td>24.977612</td>\n",
       "      <td>33.500000</td>\n",
       "      <td>25.266154</td>\n",
       "    </tr>\n",
       "    <tr>\n",
       "      <th>Sunday</th>\n",
       "      <td>24.859155</td>\n",
       "      <td>21.896552</td>\n",
       "      <td>23.274306</td>\n",
       "    </tr>\n",
       "  </tbody>\n",
       "</table>\n",
       "</div>"
      ],
      "text/plain": [
       "              London  Antwerpen      Paris\n",
       "Monday     23.969697  27.875000  24.856250\n",
       "Tuesday    24.885714  22.214286  30.999359\n",
       "Wednesday  23.460432  21.125000  29.165753\n",
       "Thursday   24.780142  27.500000  28.600690\n",
       "Friday     26.446809  28.400000  31.617986\n",
       "Saturday   24.977612  33.500000  25.266154\n",
       "Sunday     24.859155  21.896552  23.274306"
      ]
     },
     "execution_count": 157,
     "metadata": {},
     "output_type": "execute_result"
    }
   ],
   "source": [
    "meanCitydf=pd.DataFrame(meanCity, columns=['London','Antwerpen','Paris'],index=['Monday','Tuesday','Wednesday','Thursday','Friday','Saturday','Sunday'])\n",
    "meanCitydf"
   ]
  },
  {
   "cell_type": "code",
   "execution_count": 139,
   "metadata": {},
   "outputs": [
    {
     "data": {
      "text/html": [
       "<div>\n",
       "<style scoped>\n",
       "    .dataframe tbody tr th:only-of-type {\n",
       "        vertical-align: middle;\n",
       "    }\n",
       "\n",
       "    .dataframe tbody tr th {\n",
       "        vertical-align: top;\n",
       "    }\n",
       "\n",
       "    .dataframe thead th {\n",
       "        text-align: right;\n",
       "    }\n",
       "</style>\n",
       "<table border=\"1\" class=\"dataframe\">\n",
       "  <thead>\n",
       "    <tr style=\"text-align: right;\">\n",
       "      <th></th>\n",
       "      <th>city</th>\n",
       "      <th>country</th>\n",
       "      <th>date.utc</th>\n",
       "      <th>location</th>\n",
       "      <th>parameter</th>\n",
       "      <th>value</th>\n",
       "      <th>unit</th>\n",
       "      <th>hours</th>\n",
       "    </tr>\n",
       "  </thead>\n",
       "  <tbody>\n",
       "    <tr>\n",
       "      <th>0</th>\n",
       "      <td>Paris</td>\n",
       "      <td>FR</td>\n",
       "      <td>2019-06-21 00:00:00+00:00</td>\n",
       "      <td>FR04014</td>\n",
       "      <td>no2</td>\n",
       "      <td>20.0</td>\n",
       "      <td>µg/m³</td>\n",
       "      <td>0</td>\n",
       "    </tr>\n",
       "    <tr>\n",
       "      <th>1</th>\n",
       "      <td>Paris</td>\n",
       "      <td>FR</td>\n",
       "      <td>2019-06-20 23:00:00+00:00</td>\n",
       "      <td>FR04014</td>\n",
       "      <td>no2</td>\n",
       "      <td>21.8</td>\n",
       "      <td>µg/m³</td>\n",
       "      <td>23</td>\n",
       "    </tr>\n",
       "    <tr>\n",
       "      <th>2</th>\n",
       "      <td>Paris</td>\n",
       "      <td>FR</td>\n",
       "      <td>2019-06-20 22:00:00+00:00</td>\n",
       "      <td>FR04014</td>\n",
       "      <td>no2</td>\n",
       "      <td>26.5</td>\n",
       "      <td>µg/m³</td>\n",
       "      <td>22</td>\n",
       "    </tr>\n",
       "    <tr>\n",
       "      <th>3</th>\n",
       "      <td>Paris</td>\n",
       "      <td>FR</td>\n",
       "      <td>2019-06-20 21:00:00+00:00</td>\n",
       "      <td>FR04014</td>\n",
       "      <td>no2</td>\n",
       "      <td>24.9</td>\n",
       "      <td>µg/m³</td>\n",
       "      <td>21</td>\n",
       "    </tr>\n",
       "    <tr>\n",
       "      <th>4</th>\n",
       "      <td>Paris</td>\n",
       "      <td>FR</td>\n",
       "      <td>2019-06-20 20:00:00+00:00</td>\n",
       "      <td>FR04014</td>\n",
       "      <td>no2</td>\n",
       "      <td>21.4</td>\n",
       "      <td>µg/m³</td>\n",
       "      <td>20</td>\n",
       "    </tr>\n",
       "    <tr>\n",
       "      <th>...</th>\n",
       "      <td>...</td>\n",
       "      <td>...</td>\n",
       "      <td>...</td>\n",
       "      <td>...</td>\n",
       "      <td>...</td>\n",
       "      <td>...</td>\n",
       "      <td>...</td>\n",
       "      <td>...</td>\n",
       "    </tr>\n",
       "    <tr>\n",
       "      <th>2063</th>\n",
       "      <td>London</td>\n",
       "      <td>GB</td>\n",
       "      <td>2019-05-07 06:00:00+00:00</td>\n",
       "      <td>London Westminster</td>\n",
       "      <td>no2</td>\n",
       "      <td>26.0</td>\n",
       "      <td>µg/m³</td>\n",
       "      <td>6</td>\n",
       "    </tr>\n",
       "    <tr>\n",
       "      <th>2064</th>\n",
       "      <td>London</td>\n",
       "      <td>GB</td>\n",
       "      <td>2019-05-07 04:00:00+00:00</td>\n",
       "      <td>London Westminster</td>\n",
       "      <td>no2</td>\n",
       "      <td>16.0</td>\n",
       "      <td>µg/m³</td>\n",
       "      <td>4</td>\n",
       "    </tr>\n",
       "    <tr>\n",
       "      <th>2065</th>\n",
       "      <td>London</td>\n",
       "      <td>GB</td>\n",
       "      <td>2019-05-07 03:00:00+00:00</td>\n",
       "      <td>London Westminster</td>\n",
       "      <td>no2</td>\n",
       "      <td>19.0</td>\n",
       "      <td>µg/m³</td>\n",
       "      <td>3</td>\n",
       "    </tr>\n",
       "    <tr>\n",
       "      <th>2066</th>\n",
       "      <td>London</td>\n",
       "      <td>GB</td>\n",
       "      <td>2019-05-07 02:00:00+00:00</td>\n",
       "      <td>London Westminster</td>\n",
       "      <td>no2</td>\n",
       "      <td>19.0</td>\n",
       "      <td>µg/m³</td>\n",
       "      <td>2</td>\n",
       "    </tr>\n",
       "    <tr>\n",
       "      <th>2067</th>\n",
       "      <td>London</td>\n",
       "      <td>GB</td>\n",
       "      <td>2019-05-07 01:00:00+00:00</td>\n",
       "      <td>London Westminster</td>\n",
       "      <td>no2</td>\n",
       "      <td>23.0</td>\n",
       "      <td>µg/m³</td>\n",
       "      <td>1</td>\n",
       "    </tr>\n",
       "  </tbody>\n",
       "</table>\n",
       "<p>2068 rows × 8 columns</p>\n",
       "</div>"
      ],
      "text/plain": [
       "        city country                   date.utc            location parameter  \\\n",
       "0      Paris      FR  2019-06-21 00:00:00+00:00             FR04014       no2   \n",
       "1      Paris      FR  2019-06-20 23:00:00+00:00             FR04014       no2   \n",
       "2      Paris      FR  2019-06-20 22:00:00+00:00             FR04014       no2   \n",
       "3      Paris      FR  2019-06-20 21:00:00+00:00             FR04014       no2   \n",
       "4      Paris      FR  2019-06-20 20:00:00+00:00             FR04014       no2   \n",
       "...      ...     ...                        ...                 ...       ...   \n",
       "2063  London      GB  2019-05-07 06:00:00+00:00  London Westminster       no2   \n",
       "2064  London      GB  2019-05-07 04:00:00+00:00  London Westminster       no2   \n",
       "2065  London      GB  2019-05-07 03:00:00+00:00  London Westminster       no2   \n",
       "2066  London      GB  2019-05-07 02:00:00+00:00  London Westminster       no2   \n",
       "2067  London      GB  2019-05-07 01:00:00+00:00  London Westminster       no2   \n",
       "\n",
       "      value   unit  hours  \n",
       "0      20.0  µg/m³      0  \n",
       "1      21.8  µg/m³     23  \n",
       "2      26.5  µg/m³     22  \n",
       "3      24.9  µg/m³     21  \n",
       "4      21.4  µg/m³     20  \n",
       "...     ...    ...    ...  \n",
       "2063   26.0  µg/m³      6  \n",
       "2064   16.0  µg/m³      4  \n",
       "2065   19.0  µg/m³      3  \n",
       "2066   19.0  µg/m³      2  \n",
       "2067   23.0  µg/m³      1  \n",
       "\n",
       "[2068 rows x 8 columns]"
      ]
     },
     "execution_count": 139,
     "metadata": {},
     "output_type": "execute_result"
    }
   ],
   "source": [
    "data1=pd.to_datetime(data['date.utc']).dt.hour\n",
    "data.insert(7,\"hours\",data1)\n",
    "data"
   ]
  },
  {
   "cell_type": "code",
   "execution_count": 146,
   "metadata": {},
   "outputs": [
    {
     "data": {
      "text/plain": [
       "{'NO2': [27.955294117647057,\n",
       "  26.125688073394493,\n",
       "  23.55851063829787,\n",
       "  23.242682926829268,\n",
       "  22.979518072289157,\n",
       "  27.070731707317076,\n",
       "  30.635632183908044,\n",
       "  31.34659090909091,\n",
       "  29.138636363636362,\n",
       "  26.07159090909091,\n",
       "  22.602325581395345,\n",
       "  21.27529411764706,\n",
       "  21.029761904761905,\n",
       "  21.008235294117647,\n",
       "  21.737647058823526,\n",
       "  23.84,\n",
       "  24.972619047619045,\n",
       "  26.691666666666666,\n",
       "  27.089411764705883,\n",
       "  28.143529411764703,\n",
       "  29.372941176470587,\n",
       "  30.973255813953486,\n",
       "  32.45128205128205,\n",
       "  31.189411764705888]}"
      ]
     },
     "execution_count": 146,
     "metadata": {},
     "output_type": "execute_result"
    }
   ],
   "source": [
    "NO2=data.groupby('hours')['value'].mean()\n",
    "NO2\n",
    "meanHour = {'NO2': [NO2[0],NO2[1],NO2[2],NO2[3],NO2[4],NO2[5],NO2[6],NO2[7],NO2[8],NO2[9],NO2[10],NO2[11],NO2[12],NO2[13],NO2[14],NO2[15],NO2[16],NO2[17],NO2[18],NO2[19],NO2[20],NO2[21],NO2[22],NO2[23]]}\n",
    "meanHour"
   ]
  },
  {
   "cell_type": "code",
   "execution_count": 148,
   "metadata": {},
   "outputs": [
    {
     "data": {
      "text/html": [
       "<div>\n",
       "<style scoped>\n",
       "    .dataframe tbody tr th:only-of-type {\n",
       "        vertical-align: middle;\n",
       "    }\n",
       "\n",
       "    .dataframe tbody tr th {\n",
       "        vertical-align: top;\n",
       "    }\n",
       "\n",
       "    .dataframe thead th {\n",
       "        text-align: right;\n",
       "    }\n",
       "</style>\n",
       "<table border=\"1\" class=\"dataframe\">\n",
       "  <thead>\n",
       "    <tr style=\"text-align: right;\">\n",
       "      <th></th>\n",
       "      <th>NO2</th>\n",
       "    </tr>\n",
       "  </thead>\n",
       "  <tbody>\n",
       "    <tr>\n",
       "      <th>00:00</th>\n",
       "      <td>27.955294</td>\n",
       "    </tr>\n",
       "    <tr>\n",
       "      <th>01:00</th>\n",
       "      <td>26.125688</td>\n",
       "    </tr>\n",
       "    <tr>\n",
       "      <th>02:00</th>\n",
       "      <td>23.558511</td>\n",
       "    </tr>\n",
       "    <tr>\n",
       "      <th>03:00</th>\n",
       "      <td>23.242683</td>\n",
       "    </tr>\n",
       "    <tr>\n",
       "      <th>04:00</th>\n",
       "      <td>22.979518</td>\n",
       "    </tr>\n",
       "    <tr>\n",
       "      <th>05:00</th>\n",
       "      <td>27.070732</td>\n",
       "    </tr>\n",
       "    <tr>\n",
       "      <th>06:00</th>\n",
       "      <td>30.635632</td>\n",
       "    </tr>\n",
       "    <tr>\n",
       "      <th>07:00</th>\n",
       "      <td>31.346591</td>\n",
       "    </tr>\n",
       "    <tr>\n",
       "      <th>08:00</th>\n",
       "      <td>29.138636</td>\n",
       "    </tr>\n",
       "    <tr>\n",
       "      <th>09:00</th>\n",
       "      <td>26.071591</td>\n",
       "    </tr>\n",
       "    <tr>\n",
       "      <th>10:00</th>\n",
       "      <td>22.602326</td>\n",
       "    </tr>\n",
       "    <tr>\n",
       "      <th>11:00</th>\n",
       "      <td>21.275294</td>\n",
       "    </tr>\n",
       "    <tr>\n",
       "      <th>12:00</th>\n",
       "      <td>21.029762</td>\n",
       "    </tr>\n",
       "    <tr>\n",
       "      <th>13:00</th>\n",
       "      <td>21.008235</td>\n",
       "    </tr>\n",
       "    <tr>\n",
       "      <th>14:00</th>\n",
       "      <td>21.737647</td>\n",
       "    </tr>\n",
       "    <tr>\n",
       "      <th>15:00</th>\n",
       "      <td>23.840000</td>\n",
       "    </tr>\n",
       "    <tr>\n",
       "      <th>16:00</th>\n",
       "      <td>24.972619</td>\n",
       "    </tr>\n",
       "    <tr>\n",
       "      <th>17:00</th>\n",
       "      <td>26.691667</td>\n",
       "    </tr>\n",
       "    <tr>\n",
       "      <th>18:00</th>\n",
       "      <td>27.089412</td>\n",
       "    </tr>\n",
       "    <tr>\n",
       "      <th>19:00</th>\n",
       "      <td>28.143529</td>\n",
       "    </tr>\n",
       "    <tr>\n",
       "      <th>20:00</th>\n",
       "      <td>29.372941</td>\n",
       "    </tr>\n",
       "    <tr>\n",
       "      <th>21:00</th>\n",
       "      <td>30.973256</td>\n",
       "    </tr>\n",
       "    <tr>\n",
       "      <th>22:00</th>\n",
       "      <td>32.451282</td>\n",
       "    </tr>\n",
       "    <tr>\n",
       "      <th>23:00</th>\n",
       "      <td>31.189412</td>\n",
       "    </tr>\n",
       "  </tbody>\n",
       "</table>\n",
       "</div>"
      ],
      "text/plain": [
       "             NO2\n",
       "00:00  27.955294\n",
       "01:00  26.125688\n",
       "02:00  23.558511\n",
       "03:00  23.242683\n",
       "04:00  22.979518\n",
       "05:00  27.070732\n",
       "06:00  30.635632\n",
       "07:00  31.346591\n",
       "08:00  29.138636\n",
       "09:00  26.071591\n",
       "10:00  22.602326\n",
       "11:00  21.275294\n",
       "12:00  21.029762\n",
       "13:00  21.008235\n",
       "14:00  21.737647\n",
       "15:00  23.840000\n",
       "16:00  24.972619\n",
       "17:00  26.691667\n",
       "18:00  27.089412\n",
       "19:00  28.143529\n",
       "20:00  29.372941\n",
       "21:00  30.973256\n",
       "22:00  32.451282\n",
       "23:00  31.189412"
      ]
     },
     "execution_count": 148,
     "metadata": {},
     "output_type": "execute_result"
    }
   ],
   "source": [
    "meanHourdf=pd.DataFrame(meanHour, columns=['NO2'],index=['00:00','01:00','02:00','03:00','04:00','05:00','06:00','07:00','08:00','09:00','10:00','11:00','12:00','13:00','14:00','15:00','16:00','17:00','18:00','19:00','20:00','21:00','22:00','23:00'])\n",
    "meanHourdf"
   ]
  },
  {
   "cell_type": "code",
   "execution_count": 156,
   "metadata": {},
   "outputs": [
    {
     "data": {
      "text/plain": [
       "<BarContainer object of 24 artists>"
      ]
     },
     "execution_count": 156,
     "metadata": {},
     "output_type": "execute_result"
    },
    {
     "data": {
      "image/png": "[encoded data removed]",
      "text/plain": [
       "<Figure size 1080x1080 with 1 Axes>"
      ]
     },
     "metadata": {
      "needs_background": "light"
     },
     "output_type": "display_data"
    }
   ],
   "source": [
    "plt.figure(figsize=(15,15))\n",
    "plt.bar(meanHourdf.index,meanHourdf['NO2'])\n"
   ]
  }
 ],
 "metadata": {
  "kernelspec": {
   "display_name": "Python 3",
   "language": "python",
   "name": "python3"
  },
  "language_info": {
   "codemirror_mode": {
    "name": "ipython",
    "version": 3
   },
   "file_extension": ".py",
   "mimetype": "text/x-python",
   "name": "python",
   "nbconvert_exporter": "python",
   "pygments_lexer": "ipython3",
   "version": "3.8.5"
  }
 },
 "nbformat": 4,
 "nbformat_minor": 2
}
